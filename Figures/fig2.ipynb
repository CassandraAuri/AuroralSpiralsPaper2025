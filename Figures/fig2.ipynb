{
  "cells": [
    {
      "cell_type": "markdown",
      "metadata": {
        "id": "JpUw-SOqQiJr"
      },
      "source": [
        "We want to create a figure of two figures:\n",
        "\n",
        "\n",
        "A)figure that shows a satelite-aligned keogram with overplotted velocity field measurements and mag measurementsalongside a plot of the Magnetic, velocity fields and the pixel intensity\n",
        "\n",
        "\n",
        "B)plot of the Magnetic, velocity fields and the pixel intensity and the periodogram of B\n",
        "\n",
        "D) Combine the three\n"
      ]
    },
    {
      "cell_type": "markdown",
      "metadata": {
        "id": "O82Wf6utQiJt"
      },
      "source": [
        "Initalize Cell 1-9\n"
      ]
    },
    {
      "cell_type": "code",
      "execution_count": 22,
      "metadata": {
        "colab": {
          "base_uri": "https://localhost:8080/"
        },
        "id": "i4WCr4ncQo68",
        "outputId": "d2efa07e-86c7-4fdc-d87c-135d42a56e4a"
      },
      "outputs": [
        {
          "output_type": "stream",
          "name": "stdout",
          "text": [
            "1.26.4\n"
          ]
        }
      ],
      "source": [
        "import importlib\n",
        "import os\n",
        "\n",
        "if importlib.util.find_spec('asilib') is None:\n",
        "    !pip install asilib\n",
        "import numpy as np\n",
        "print(np.__version__)\n",
        "if int(np.__version__[0]) > 1:\n",
        "  os.kill(os.getpid(), 9) #asilib requires numpy 1.26, but the cloud initially\n",
        "  #forced to numpy 2.0, to fix this we kill it THIS REQUIRES YOU TO RUN TWICE\n",
        "\n",
        "for pkg in ['scienceplots', 'viresclient', 'geopack']:\n",
        "  if importlib.util.find_spec(pkg) is None:\n",
        "      !pip install {pkg}"
      ]
    },
    {
      "cell_type": "code",
      "source": [
        "!git clone https://github.com/CassandraAuri/AuroralSpiralsPaper2025"
      ],
      "metadata": {
        "colab": {
          "base_uri": "https://localhost:8080/"
        },
        "id": "5rYHpLUpbmFR",
        "outputId": "1cdeb175-74c1-4010-cb67-aa0b6475aa43"
      },
      "execution_count": 23,
      "outputs": [
        {
          "output_type": "stream",
          "name": "stdout",
          "text": [
            "Cloning into 'AuroralSpiralsPaper2025'...\n",
            "remote: Enumerating objects: 87, done.\u001b[K\n",
            "remote: Counting objects: 100% (16/16), done.\u001b[K\n",
            "remote: Compressing objects: 100% (15/15), done.\u001b[K\n",
            "remote: Total 87 (delta 2), reused 10 (delta 1), pack-reused 71 (from 1)\u001b[K\n",
            "Receiving objects: 100% (87/87), 79.51 MiB | 26.83 MiB/s, done.\n",
            "Resolving deltas: 100% (25/25), done.\n"
          ]
        }
      ]
    },
    {
      "cell_type": "code",
      "execution_count": 3,
      "metadata": {
        "id": "InSDnKqrQiJt",
        "colab": {
          "base_uri": "https://localhost:8080/"
        },
        "outputId": "271fed6f-0a17-4929-b43e-6ec60ddac700"
      },
      "outputs": [
        {
          "metadata": {
            "tags": null
          },
          "name": "stdout",
          "output_type": "stream",
          "text": [
            "Load IGRF coefficients ...\n"
          ]
        }
      ],
      "source": [
        "import numpy as np #Lets handle our imports now for section A\n",
        "import matplotlib.pyplot as plt\n",
        "import asilib\n",
        "import asilib.asi\n",
        "from datetime import datetime, timedelta\n",
        "from scipy.optimize import curve_fit\n",
        "from viresclient import set_token\n",
        "from viresclient import SwarmRequest\n",
        "import geopack.geopack as gp\n",
        "from scipy.signal import periodogram\n",
        "import sys\n",
        "\n",
        "import scienceplots\n",
        "\n",
        "plt.style.use(['science', 'no-latex'])\n",
        "alt=150\n",
        "plt.rcParams['axes.prop_cycle'] = plt.cycler(color=[\"black\", \"r\", \"m\", \"g\"])  #changes default colou"
      ]
    },
    {
      "cell_type": "code",
      "execution_count": 4,
      "metadata": {
        "id": "bjup-FMCQiJt"
      },
      "outputs": [],
      "source": [
        "time_array=(datetime(2022,12,19,14,2), datetime(2022,12,19,14,8))"
      ]
    },
    {
      "cell_type": "code",
      "execution_count": 5,
      "metadata": {
        "id": "xCqGgT6wQiJu"
      },
      "outputs": [],
      "source": [
        "#From documentation link\n",
        "def requester(sc_collection, measurement, residual, sampling_step=None, **kwargs):\n",
        "    try:\n",
        "        request = SwarmRequest()\n",
        "        request.set_collection(sc_collection)\n",
        "        if residual == True:\n",
        "            request.set_products(\n",
        "                measurements=measurement,\n",
        "                models=[\"CHAOS\"],\n",
        "                residuals=True,\n",
        "                sampling_step=sampling_step,\n",
        "            )\n",
        "        else:\n",
        "            request.set_products(\n",
        "                measurements=measurement,\n",
        "                models=[\"CHAOS\"],\n",
        "                sampling_step=sampling_step,\n",
        "            )\n",
        "        data = request.get_between(datetime(2022,12,19,14,4), datetime(2022,12,19,14,6), **kwargs) #sets to get data between the first and last value in the time tuple\n",
        "        df = data.as_dataframe()\n",
        "    except:\n",
        "        df = []\n",
        "    return df"
      ]
    },
    {
      "cell_type": "code",
      "execution_count": 6,
      "metadata": {
        "id": "biX84ljOQiJu"
      },
      "outputs": [],
      "source": [
        "def arrangement(time, array, shape):  # arranges B into a useable format for use later\n",
        "    barranged = np.zeros((len(time), shape))\n",
        "    # Re-arranges into proper (n x 3 ) matricies, ugly but works\n",
        "    for j in range(len(time)):\n",
        "        for k in range(shape):\n",
        "            barranged[j][k] = array[j][k]\n",
        "    return barranged"
      ]
    },
    {
      "cell_type": "code",
      "execution_count": 7,
      "metadata": {
        "id": "6v2BgWB4QiJu"
      },
      "outputs": [],
      "source": [
        "def unit_array(array):\n",
        "    arraysum = np.sum(np.abs(array), axis=1)\n",
        "    # Normalizes and finds unitary\n",
        "    array_unit = array / arraysum[:, np.newaxis]  # normalizes\n",
        "    return array_unit"
      ]
    },
    {
      "cell_type": "code",
      "execution_count": 8,
      "metadata": {
        "id": "Vx9PwYlhQiJu"
      },
      "outputs": [],
      "source": [
        "from scipy.spatial.transform import Rotation as R\n",
        "import numpy as np\n",
        "\n",
        "def quaternion_inverse_scipy(q):\n",
        "    # Ensure q is a numpy array\n",
        "    q = np.asarray(q)\n",
        "\n",
        "    # Create a Rotation object from the quaternion\n",
        "    rotation = R.from_quat(q)  # Note: scipy uses [x, y, z, w] format\n",
        "\n",
        "    # Compute the inverse rotation\n",
        "    inverse_rotation = rotation.inv()\n",
        "\n",
        "\n",
        "    return inverse_rotation"
      ]
    },
    {
      "cell_type": "code",
      "execution_count": 9,
      "metadata": {
        "id": "blg1uldWQiJu"
      },
      "outputs": [],
      "source": [
        "\n",
        "def find_closest_indices(times1, times2):\n",
        "    # Convert to numpy arrays\n",
        "    times1 = np.array(times1)\n",
        "    times2 = np.array(times2)\n",
        "\n",
        "    # Compute the differences between each time in times1 and all times in times2\n",
        "    # Resulting in a 2D array where each row contains the absolute differences for one time in times1\n",
        "    differences = np.abs(times1[:, None] - times2)\n",
        "\n",
        "    # Find the index of the minimum difference for each time in times1\n",
        "    closest_indices = np.argmin(differences, axis=1)\n",
        "\n",
        "    return closest_indices"
      ]
    },
    {
      "cell_type": "code",
      "execution_count": 10,
      "metadata": {
        "id": "yZdBH9AIQiJv"
      },
      "outputs": [],
      "source": [
        "\n",
        "from scipy.optimize import curve_fit\n",
        "import geopack.geopack as gp\n",
        "def footprint(time, latitude, longitude, altitude, alt,vsw= [-400,0,0]):\n",
        "    \"\"\"\n",
        "    time, datetime, time for magnetic data for footprint\n",
        "    vsw velocity of solar wind, tuple of x,y,z\n",
        "    longitude of satellite in degrees\n",
        "    latitude of satellite in degrees\n",
        "    altitude of satellite in km from centre of earth (should be above ~6371)\n",
        "    THIS CODE ONLY Works in the NOrthern hemisphere\n",
        "\n",
        "    \"\"\"\n",
        "    def cubic(t, a, b, c, d):\n",
        "            return a*t**3 + b*t**2 + c*t + d\n",
        "    def x(t, params_x):\n",
        "        return cubic(t, *params_x)\n",
        "\n",
        "    def y(t, params_y):\n",
        "        return cubic(t, *params_y)\n",
        "\n",
        "    def z(t, params_z):\n",
        "        return cubic(t, *params_z)\n",
        "    def radius(t, params_x, params_y, params_z):\n",
        "        return np.sqrt(x(t, params_x)**2 + y(t, params_y)**2 + z(t, params_z)**2)\n",
        "\n",
        "    def curve_fit_func(xx,yy,zz, differencealt):\n",
        "\n",
        "        r = np.linspace(1, 1.5, 10000)# construct an array of radiuses from 1-1.5\n",
        "\n",
        "        radius_data=np.sqrt(xx**2+yy**2+zz**2)\n",
        "\n",
        "        params_x, _ = curve_fit(cubic, radius_data, xx) #Constructs fits on the traces inward since the spatial resolution produced by geopack is limited.\n",
        "        params_y, _ = curve_fit(cubic, radius_data, yy)\n",
        "        params_z, _ = curve_fit(cubic, radius_data, zz)\n",
        "\n",
        "\n",
        "\n",
        "        index_closest=np.argmin(np.abs(radius(r, params_x, params_y, params_z)-(alt-differencealt+6371)/6371))#Find the index that produces the closest radius to the altitude\n",
        "\n",
        "        return x(r[index_closest],params_x ),y(r[index_closest],params_y ),z(r[index_closest],params_z )\n",
        "\n",
        "    t1 = time\n",
        "    t0 = datetime(1970,1,1) #epoch\n",
        "    ut = (t1-t0).total_seconds()\n",
        "    lat_sat=np.deg2rad(latitude)\n",
        "    lon_sat=np.deg2rad(longitude) #converts to radii\n",
        "    gp.recalc(ut)\n",
        "    r, theta= gp.geodgeo(altitude,lat_sat,1) #this r accounts for earths oblateness, so we need to find the difference between my 6371 assumption and the real value and account for that\n",
        "    differencearray= (altitude+6371)-r\n",
        "    x_gc,y_gc,z_gc = gp.sphcar((r)/6371,theta,lon_sat,1)  #spherical to cartesian\n",
        "\n",
        "\n",
        "    x_gsm, y_gsm, z_gsm = gp.geogsm(x_gc,y_gc,z_gc, 1) #cartesian to gsm\n",
        "\n",
        "    x_foot,y_foot,z_foot=np.zeros(len(x_gsm)), np.zeros(len(y_gsm)), np.zeros(len(z_gsm)) #initalize an array\n",
        "    for index in range(len(x_gsm)):\n",
        "        x_foot_int, y_foot_int, z_foot_int, xx2, yy2,zz2 = gp.trace(x_gsm[index], y_gsm[index], z_gsm[index], dir=1,rlim=3, maxloop=1000 ) #traces each set of lat,lon,alt outward\n",
        "\n",
        "\n",
        "        x_foot[index],y_foot[index],z_foot[index] = curve_fit_func(xx2,yy2,zz2, differencearray[index])\n",
        "\n",
        "\n",
        "\n",
        "\n",
        "    x_done, y_done, z_done = gp.geogsm(x_foot, y_foot, z_foot, -1)\n",
        "\n",
        "    alt_sat_done, lat_sat_done,lon_sat_done = np.zeros(len(x_done)), np.zeros(len(x_done)), np.zeros(len(x_done))\n",
        "    for index in range(len(x_done)):\n",
        "\n",
        "        r_done,theta_done,lon_sat_done[index]= gp.sphcar(x_done[index], y_done[index], z_done[index],-1)\n",
        "\n",
        "        alt_sat_done[index], lat_sat_done[index]= gp.geodgeo(r_done*6371,theta_done,-1) #TODO check if this is right\n",
        "\n",
        "    print(alt_sat_done, 'altitude derived from fit')\n",
        "\n",
        "    if np.any(np.abs(alt_sat_done - alt) > 5):\n",
        "        raise Exception(\"One or more values in the footprinting are greater than 5km away from the specified alt. Contact owner for a fix, not your fault\")\n",
        "    print(np.rad2deg(lon_sat_done)-360,np.rad2deg(lat_sat_done) , 'lat and lon' )\n",
        "    sat_lla=np.array([ np.rad2deg(lat_sat_done), np.rad2deg(lon_sat_done)-360,  alt_sat_done])\n",
        "    return sat_lla"
      ]
    },
    {
      "cell_type": "markdown",
      "metadata": {
        "id": "lJWmx1k3QiJv"
      },
      "source": [
        "Getting B Data"
      ]
    },
    {
      "cell_type": "code",
      "execution_count": 11,
      "metadata": {
        "id": "u0ulOaAOREXv",
        "colab": {
          "base_uri": "https://localhost:8080/"
        },
        "outputId": "12faa0de-216f-4dcc-c9a4-c51874149e99"
      },
      "outputs": [
        {
          "output_type": "stream",
          "name": "stdout",
          "text": [
            "Token saved for https://vires.services/ows\n"
          ]
        }
      ],
      "source": [
        "#Now we need to set our token, for my case to protect my token I import from a file not in the github cloud, however you can just paste your code from viresclient, just don't share it publically!\n",
        "set_token(\n",
        "        \"https://vires.services/ows\",\n",
        "        set_default=True,\n",
        "        token=\"kmxv5mTTyYwzw4kQ9lsCkGfQHtjjJRVZ\",\n",
        "    )  # key\n"
      ]
    },
    {
      "cell_type": "code",
      "execution_count": 33,
      "metadata": {
        "id": "Xv37GwzqQiJv",
        "colab": {
          "base_uri": "https://localhost:8080/"
        },
        "outputId": "d174edfa-b766-4535-888b-a765e34f2696"
      },
      "outputs": [
        {
          "output_type": "stream",
          "name": "stderr",
          "text": [
            "<ipython-input-27-f085a82805a5>:6: FutureWarning: Series.__getitem__ treating keys as positions is deprecated. In a future version, integer keys will always be treated as labels (consistent with DataFrame behavior). To access a value by position, use `ser.iloc[pos]`\n",
            "  barranged[j][k] = array[j][k]\n"
          ]
        }
      ],
      "source": [
        "#Lets do B first\n",
        "ds = requester(\n",
        "    \"SW_OPER_MAGB_HR_1B\", #Mag B, high resolution, 50Hz B (Magnetic field)\n",
        "    \"B_NEC\", #Magnetic field in NEC coordinates\n",
        "    True,\n",
        "    asynchronous=False,\n",
        "    show_progress=False)\n",
        "BNEC=ds[\"B_NEC_res_CHAOS\"]\n",
        "Btime = BNEC.index.to_numpy()\n",
        "BNEC = arrangement(Btime, ds[\"B_NEC_res_CHAOS\"], 3)\n",
        "\n",
        "\n",
        "latitude_B, longitude_B, altitude_B = ds['Latitude'].to_numpy(), ds['Longitude'].to_numpy(),  (ds[\"Radius\"].to_numpy()-6.371e6)/1e3 #km  # Gets Emphermis data"
      ]
    },
    {
      "cell_type": "markdown",
      "metadata": {
        "id": "vizBVJcyQiJv"
      },
      "source": [
        "Get velocity Data from Swarm B"
      ]
    },
    {
      "cell_type": "code",
      "execution_count": 34,
      "metadata": {
        "id": "ts5x_zSeQiJv"
      },
      "outputs": [],
      "source": [
        "measurements_E = [\n",
        "        \"Vixv\",\n",
        "        \"Viy\",\n",
        "        \"Viz\",\n",
        "    ]\n",
        "dsE = requester(\n",
        "    \"SW_EXPT_EFIB_TCT16\", #Mag B, high resolution, 50Hz B (Magnetic field)\n",
        "    measurements_E, #Magnetic field in NEC coordinates\n",
        "    True,\n",
        "    asynchronous=False,\n",
        "    show_progress=False)\n",
        "dsB = requester(\n",
        "    'SW_OPER_MAGB_HR_1B', #Mag B, high resolution, 50Hz B (Magnetic field)\n",
        "    [\"q_NEC_CRF\"], #Magnetic field in NEC coordinates\n",
        "    False,\n",
        "    asynchronous=False,\n",
        "    show_progress=False)\n",
        "\n",
        "latitude_E, longitude_E, altitude_E = dsE['Latitude'].to_numpy(), dsE['Longitude'].to_numpy(),  (dsE[\"Radius\"].to_numpy()-6.371e6)/1e3 #km  # Gets Emphermis data\n"
      ]
    },
    {
      "cell_type": "markdown",
      "metadata": {
        "id": "6eKUmTqbQiJw"
      },
      "source": [
        "Footprint satellite data from ~500km to 150km"
      ]
    },
    {
      "cell_type": "code",
      "execution_count": null,
      "metadata": {
        "id": "iWfIp2BAQiJw"
      },
      "outputs": [],
      "source": [
        "sat_lla_B=footprint(time_array[0], latitude_B, longitude_B, altitude_B, alt, vsw=[-345,12,-12])\n",
        "#This can take 10+ minutes, sry but I wanted to make my own pythonic-based footprinter\n"
      ]
    },
    {
      "cell_type": "code",
      "execution_count": null,
      "metadata": {
        "id": "Aj2tppbPmxJK"
      },
      "outputs": [],
      "source": [
        "#This large of an array makes google collab unhappy, so we write this to disc\n",
        "sat_lla_B = np.memmap('satellitedata.dat', dtype='float32', mode='w+', shape=np.shape(sat_lla_B))"
      ]
    },
    {
      "cell_type": "markdown",
      "metadata": {
        "id": "V6NMDyYLQiJw"
      },
      "source": [
        "Some post processing to get directions correct and in a numpy array"
      ]
    },
    {
      "cell_type": "code",
      "execution_count": null,
      "metadata": {
        "id": "VGH7ZmRtQiJw"
      },
      "outputs": [],
      "source": [
        "indicies=find_closest_indices(dsE.index, dsB.index)\n",
        "quatnecrf=dsB[\"q_NEC_CRF\"].to_numpy()[indicies]\n",
        "quaternions = []\n",
        "vsat=np.array([dsE[\"Vixv\"] , dsE[\"Viy\"], dsE[\"Viz\"]]).T\n",
        "\n",
        "Etime = dsE.index\n",
        "\n",
        "VNEC=[]\n",
        "for i in range(len(quatnecrf)):\n",
        "    inverse_quat = quaternion_inverse_scipy(dsB[\"q_NEC_CRF\"].to_numpy()[indicies][i])\n",
        "\n",
        "    rot_NEC_V= inverse_quat.apply(vsat[i])\n",
        "    VNEC.append(rot_NEC_V)\n",
        "\n",
        "\n",
        "\n",
        "VNEC=np.array(VNEC)\n"
      ]
    },
    {
      "cell_type": "markdown",
      "metadata": {
        "id": "t6LCPt4nQiJw"
      },
      "source": [
        "Given an issue with the velocity data for this event, (see github link), the velocity data is corrected to the mag position is right. This will lead to a 5m error but is better than 10km off."
      ]
    },
    {
      "cell_type": "code",
      "execution_count": null,
      "metadata": {
        "id": "g1Yo08sKQiJw"
      },
      "outputs": [],
      "source": [
        "from scipy.interpolate import CubicSpline\n",
        "cs_lat = CubicSpline( Btime, sat_lla_B[0]) #B footprint data\n",
        "cs_lon = CubicSpline( Btime, sat_lla_B[1])\n",
        "cs_alt = CubicSpline( Btime, sat_lla_B[2])\n",
        "\n",
        "#sat_lla_E=footprint(time_array[0], latitude_E, longitude_E, altitude_E, alt, vsw=[-345,12,-12])\n",
        "sat_lla_E= np.array([cs_lat(Etime), cs_lon(Etime),  cs_alt(Etime)]) #km  # Gets Emphermis data latitude, longitude, altitude for times in E FROM B position\n"
      ]
    },
    {
      "cell_type": "markdown",
      "metadata": {
        "id": "uDVKuAzMQiJw"
      },
      "source": [
        "Finally!, lets initalize our imager for the given range in the initalization"
      ]
    },
    {
      "cell_type": "code",
      "execution_count": null,
      "metadata": {
        "id": "llnxDH45QiJw"
      },
      "outputs": [],
      "source": [
        "asi=asilib.asi.trex_rgb(location_code='yknf', alt=alt,   time_range=time_array, colors='rgb', )\n"
      ]
    },
    {
      "cell_type": "markdown",
      "metadata": {
        "id": "AHA4GqyOQiJw"
      },
      "source": [
        "Lets just double check everything looks good (ie we get a good photo with the satellite position correct)"
      ]
    },
    {
      "cell_type": "code",
      "execution_count": null,
      "metadata": {
        "id": "4QUcfPlUQiJx"
      },
      "outputs": [],
      "source": [
        "fig, ax = plt.subplots(figsize=(6,4), dpi=300)\n",
        "asi_test=asilib.asi.trex_rgb(location_code='yknf', alt=alt,   time=datetime(2022,12,19,14,5), colors='rgb', )\n",
        "ax, im_good = asi_test.plot_map(ax=ax, asi_label=False)\n",
        "coords=im_good.get_coordinates()\n",
        "x_coords=coords[:,:,0]\n",
        "y_coords=coords[:,:,1]\n",
        "\n",
        "ax.plot(sat_lla_E[1], sat_lla_E[0], linestyle='--', dashes=(5, 20), color='white') #length of 5, space of 20\n",
        "plt.ylim(61.75, 62.75)\n",
        "plt.xlim(-119, -110)\n",
        "plt.xlabel(\"Geographic Longitude\")\n",
        "plt.ylabel(\"Geographic Latitude\")\n",
        "plt.title((datetime(2022,12,19,14,5, 39)-timedelta(hours=7)).strftime(\"%H:%M:%S\")+ \" Local Time\")\n"
      ]
    },
    {
      "cell_type": "markdown",
      "metadata": {
        "id": "P7l9keeEQiJx"
      },
      "source": [
        "Now this function takes in a grid of lats/lons and the satellite path in lat and lon and finds the closest pixels."
      ]
    },
    {
      "cell_type": "code",
      "execution_count": null,
      "metadata": {
        "id": "JHcBuU6vQiJx"
      },
      "outputs": [],
      "source": [
        "\n",
        "\n",
        "# grid_lats, grid_lons: 2D arrays representing the latitude and longitude grid\n",
        "# line_lats, line_lons: 1D arrays representing the latitude and longitude of the line\n",
        "\n",
        "def find_closest_grid_points(grid_lats, grid_lons, line_lats, line_lons):\n",
        "    # Reshape line_lats and line_lons for broadcasting with the grid\n",
        "    line_lats_reshaped = line_lats[:, np.newaxis, np.newaxis]  # Shape: (num_points, 1, 1)\n",
        "    line_lons_reshaped = line_lons[:, np.newaxis, np.newaxis]  # Shape: (num_points, 1, 1)\n",
        "\n",
        "    # Compute squared Euclidean distances using broadcasting\n",
        "    lat_diff = grid_lats[np.newaxis, :, :] - line_lats_reshaped  # Shape: (num_points, grid_lat_dim, grid_lon_dim)\n",
        "    lon_diff = grid_lons[np.newaxis, :, :] - line_lons_reshaped  # Shape: (num_points, grid_lat_dim, grid_lon_dim)\n",
        "    distances = lat_diff**2 + lon_diff**2  # Shape: (num_points, grid_lat_dim, grid_lon_dim)\n",
        "\n",
        "    # Find the flat index of the minimum distance for each point along the grid axes\n",
        "    min_indices_flat = np.argmin(distances.reshape(distances.shape[0], -1), axis=1)  # Shape: (num_points,)\n",
        "\n",
        "    # Convert flat indices back to 2D grid indices for all points at once\n",
        "    grid_shape = grid_lats.shape\n",
        "    closest_indices = np.stack(np.unravel_index(min_indices_flat, grid_shape), axis=1)\n",
        "\n",
        "    return closest_indices.T\n",
        "\n"
      ]
    },
    {
      "cell_type": "code",
      "execution_count": null,
      "metadata": {
        "id": "DrtuDMFKNiWW"
      },
      "outputs": [],
      "source": [
        "def flatten_comprehension(matrix):\n",
        "    return [item for row in matrix for item in row]"
      ]
    },
    {
      "cell_type": "markdown",
      "metadata": {
        "id": "pxt-crx2QiJx"
      },
      "source": [
        "Lets get the Pixel Intensity now each point of the track (spatiotemporal evolution)"
      ]
    },
    {
      "cell_type": "code",
      "execution_count": null,
      "metadata": {
        "id": "-ZypPCT9QiJx"
      },
      "outputs": [],
      "source": [
        "#Unfortunately, these break google cloud, these can be run locally; however,\n",
        "#we will just import the final results.\n",
        "\n",
        "# Initialize ASI object\n",
        "\n",
        "\"\"\"\n",
        "if 'google.colab' in sys.modules:\n",
        "    asi = asilib.asi.trex_rgb(location_code='yknf', alt=alt ,   time_range=(datetime(2022,12,19,14,4), datetime(2022,12,19,14,6)), )\n",
        "    indicies_sat=[]\n",
        "    pixel_closest_sat = np.zeros((40, 1920, 3), dtype=np.uint8)\n",
        "    movie_generator = asi.animate_map_gen()\n",
        "    lats_sat_keo=[]\n",
        "    for i, (time, image, _, im) in enumerate(movie_generator):\n",
        "        indicies_sat.append(np.where((Etime >= np.datetime64(time)) & (Etime <= np.datetime64(time + timedelta(seconds=3))))[0])\n",
        "        if i ==0:\n",
        "            grid_lons = im.get_coordinates()[:, :, 0]\n",
        "            grid_lats = im.get_coordinates()[:, :, 1]\n",
        "            closest_indices_sat = np.transpose(find_closest_grid_points(grid_lats, grid_lons, sat_lla_E[0], sat_lla_E[1]))\n",
        "            pixel_closest_sat[i] = ( image[closest_indices_sat[:, 0], closest_indices_sat[:, 1], :])\n",
        "        else:\n",
        "            pixel_closest_sat[i] = ( image[closest_indices_sat[:, 0], closest_indices_sat[:, 1], :])\n",
        "        lats_sat_keo.append( sat_lla_E[0])\n",
        "        if i==39: #due to an error on my own system related to ffmpeg\n",
        "            break\n",
        "    np.savetxt('satellitekeogramlatitude.csv',lats_sat_keo)\n",
        "    start_time= datetime(2022,12,19,14,4)\n",
        "    time_sat_keo= [start_time + timedelta(seconds=3*x) for x in range(40)]\n",
        "else:\n",
        "\"\"\"\n",
        "lats_sat_leo=np.loadtxt('satellitekeogramlatitude.csv')\n",
        "time_sat_keo= [datetime(2022,12,19,14,4) + timedelta(seconds=3*x) for x in range(40)]\n"
      ]
    },
    {
      "cell_type": "markdown",
      "metadata": {
        "id": "9ZHjgIkeQiJx"
      },
      "source": [
        "Now lets get the pixel intensity for the entire track for each shot of the camera (temporal, used for satellite aligned keogram)"
      ]
    },
    {
      "cell_type": "code",
      "execution_count": null,
      "metadata": {
        "id": "jzv1MLrdQiJx"
      },
      "outputs": [],
      "source": [
        "\n",
        "\n",
        "# Initialize ASI object\n",
        "asi = asilib.asi.trex_rgb(location_code='yknf', alt=alt,   time_range=(datetime(2022,12,19,14,4), datetime(2022,12,19,14,6)), )\n",
        "\"\"\"\n",
        "if 'google.colab' in sys.modules:\n",
        "pixel_closest_sat_track = []\n",
        "movie_generator = asi.animate_map_gen()\n",
        "time_sat_alongtrack = []\n",
        "indicies_sat_track =  []\n",
        "lats=[]\n",
        "for i, (time, image, _, im) in enumerate(movie_generator):\n",
        "    indicies = np.where((Etime >= np.datetime64(time)) & (Etime <= np.datetime64(time + timedelta(seconds=3))))[0]\n",
        "    indicies_sat_track.append(indicies)\n",
        "    grid_lons = im.get_coordinates()[:, :, 0]\n",
        "    grid_lats = im.get_coordinates()[:, :, 1]\n",
        "    closest_indices_sat = np.transpose(find_closest_grid_points(grid_lats, grid_lons, sat_lla_E[0][indicies], sat_lla_E[1][indicies]))\n",
        "    lats.append(list(sat_lla_E[0][indicies]))\n",
        "    pixel_closest_sat_track.append( image[closest_indices_sat[:, 0], closest_indices_sat[:, 1], :])\n",
        "\n",
        "    if i==39:\n",
        "        break\n",
        "    print(flatten_comprehension(lats))\n",
        "    np.savetxt('pixelintensity.csv',flatten_comprehension(pixel_closest_sat_track))\n",
        "    np.savetxt('latsatellite.csv',flatten_comprehension(lats))\n",
        "else:\n",
        "\"\"\"\n",
        "\n",
        "pixel_closest_sat_track=np.loadtxt('pixelintensity.csv')\n",
        "lats=np.loadtxt('latsatellite.csv')\n"
      ]
    },
    {
      "cell_type": "code",
      "execution_count": null,
      "metadata": {
        "id": "BmtcoeUktzhr"
      },
      "outputs": [],
      "source": []
    },
    {
      "cell_type": "markdown",
      "metadata": {
        "id": "0RkgMBOjQiJx"
      },
      "source": [
        "Now taking our mag data, lets overplot the satellite track keogram with the the mag data (with a offset)"
      ]
    },
    {
      "cell_type": "code",
      "execution_count": null,
      "metadata": {
        "id": "uJeZj1w2QiJy"
      },
      "outputs": [],
      "source": [
        "import matplotlib.dates as mdates\n",
        "fig_keo, ax = plt.subplots(figsize=(6,5), dpi=300, tight_layout=True)\n",
        "im = plt.pcolormesh( time_sat_keo, sat_lla_E[0], np.swapaxes(pixel_closest_sat, 1, 0 )[:,:,1], vmin=30, vmax=50)\n",
        "\n",
        "plt.ylim(62,62.8)\n",
        "\n",
        "import matplotlib.pyplot as plt\n",
        "from scipy.interpolate import CubicSpline\n",
        "cs = CubicSpline(Btime, sat_lla_B[0])\n",
        "latitudes_16sps = cs(Etime)\n",
        "cs = CubicSpline(Btime, BNEC[:,1])\n",
        "Bs_16sps = cs(Etime)\n",
        "u_zeros = np.zeros_like(-Bs_16sps)\n",
        "print(np.max(np.abs(VNEC[:, 1])))\n",
        "U_perpendicular = (-Bs_16sps-250) / 250  # Inverting y-component for perpendicular direction\n",
        "V_perpendicular = (Bs_16sps+250)  / 250   # Keeping the x-component\n",
        "\n",
        "QV1= plt.quiver( Etime,sat_lla_E[0], V_perpendicular, u_zeros, color='white', scale=1, scale_units='inches', label=\"Eastward Velocity\")\n",
        "plt.quiverkey(QV1, 0.215, 0.875, 0.5, r'$250nT', labelpos='E', coordinates='figure', labelcolor='white')\n",
        "cbar = plt.colorbar(im)\n",
        "from datetime import datetime\n",
        "\n",
        "\n",
        "locator = mdates.SecondLocator(interval=15)  # Shows every minute\n",
        "formatter = mdates.DateFormatter('%M:%S')\n",
        "\n",
        "\n",
        "ax.xaxis.set_major_locator(locator)\n",
        "ax.xaxis.set_major_formatter(formatter)\n",
        "ax.tick_params(axis='x', rotation=45)\n",
        "ax.set_xlim(datetime(2022,12,19,14,4), datetime(2022,12,19,14,5,45))\n",
        "ax.set_xlabel(\"Time (M:S)\")\n",
        "ax.set_ylabel(\"Geographic Latitude\")\n",
        "cbar.set_label(\"Green Pixel Intensity\")\n",
        "ax.set_title(\"Satellite-Aligned Keogram\")\n",
        "\n",
        "\n"
      ]
    },
    {
      "cell_type": "markdown",
      "metadata": {
        "id": "9Zu7D05hQiJy"
      },
      "source": [
        "Now Utilizing our code from Fig. 1 to get just the images, lets overplot the B field and the aurora and satellite track"
      ]
    },
    {
      "cell_type": "code",
      "execution_count": null,
      "metadata": {
        "id": "BHZzqVoPQiJy"
      },
      "outputs": [],
      "source": [
        "fig, axes = plt.subplots(figsize=(10,8), nrows=3, ncols=3, dpi=300, sharex=True, sharey=True, tight_layout=True)\n",
        "axlist=axes.flatten()\n",
        "time_array_pannel=[time_array[0]+timedelta(seconds=140)+timedelta(seconds=12*i) for i in range(9)]\n",
        "\n",
        "for i in range(len(time_array_pannel)):\n",
        "    asi=asilib.asi.trex_rgb(location_code='yknf', alt=alt, time=time_array_pannel[i], colors='rgb', )\n",
        "\n",
        "    asi.plot_map(ax=axlist[i], asi_label=False)\n",
        "    axlist[i].set_title(time_array_pannel[i].strftime('%H:%M:%S%f')[:-6])\n",
        "    axlist[i].set_xlim(-119,-109)\n",
        "    axlist[i].set_ylim(61.75,63)\n",
        "    axlist[i].plot(sat_lla_E[1], sat_lla_E[0], color='red', linestyle='dashed')\n",
        "\n",
        "    axlist[i].quiver( sat_lla_E[1],sat_lla_E[0], V_perpendicular, u_zeros, color='white', scale=1, scale_units='inches', alpha=0.25)\n",
        "    indicies= np.where((Etime >= np.datetime64(time_array_pannel[i] -  timedelta(seconds=5))) & (Etime <= np.datetime64(time_array_pannel[i] + timedelta(seconds=5))))[0]\n",
        "    axlist[i].quiver(sat_lla_E[1][indicies], sat_lla_E[0][indicies],V_perpendicular[indicies], u_zeros[indicies], color='red', scale=1, scale_units='inches', label=\"Eastward Velocity\", alpha=0.4)\n",
        "    middle_index=np.argmin(np.abs(Etime -time_array_pannel[i]))\n",
        "    axlist[i].scatter(sat_lla_E[1][middle_index], sat_lla_E[0][middle_index], color='white', s=15)\n",
        "\n"
      ]
    },
    {
      "cell_type": "code",
      "execution_count": null,
      "metadata": {
        "id": "-znCSe7gQiJy"
      },
      "outputs": [],
      "source": [
        "\n",
        "fig, ax = plt.subplots(figsize=(5,3), dpi=300)\n",
        "im = plt.pcolormesh( time_sat_keo, sat_lla_E[0], np.swapaxes(pixel_closest_sat, 1, 0 ))\n",
        "plt.ylim(62,63)\n",
        "\n",
        "\n",
        "from scipy.interpolate import CubicSpline\n",
        "cs = CubicSpline(Btime, sat_lla_B[0])\n",
        "latitudes_16sps = cs(Etime)\n",
        "cs = CubicSpline(Btime, BNEC[:,0])\n",
        "Bs_16sps = cs(Etime)\n",
        "U_perpendicular = -VNEC[:, 1] / np.max(np.abs(VNEC[:, 1]))  # Inverting y-component for perpendicular direction\n",
        "V_perpendicular = VNEC[:, 1] / np.max(np.abs(VNEC[:, 1]))   # Keeping the x-component\n",
        "\n",
        "plt.quiver( Etime,sat_lla_E[0], V_perpendicular, u_zeros, color='white', scale=1, scale_units='inches')\n",
        "\n",
        "\n",
        "locator = mdates.SecondLocator(interval=15)  # Shows every minute\n",
        "formatter = mdates.DateFormatter('%M:%S')\n",
        "\n",
        "\n",
        "ax.xaxis.set_major_locator(locator)\n",
        "ax.xaxis.set_major_formatter(formatter)\n",
        "ax.tick_params(axis='x', rotation=45)"
      ]
    },
    {
      "cell_type": "code",
      "execution_count": null,
      "metadata": {
        "id": "W1Hghjb1QiJz"
      },
      "outputs": [],
      "source": [
        "plt.plot( Bs_16sps)"
      ]
    },
    {
      "cell_type": "markdown",
      "metadata": {
        "id": "0B_lJwJwQiJz"
      },
      "source": [
        "Now lets make an ewogram"
      ]
    },
    {
      "cell_type": "code",
      "execution_count": null,
      "metadata": {
        "id": "HM9Jhs5jQiJz"
      },
      "outputs": [],
      "source": [
        "lat16 = sat_lla_E[0]\n",
        "lat50 = sat_lla_B[0]"
      ]
    },
    {
      "cell_type": "code",
      "execution_count": null,
      "metadata": {
        "id": "kRXQ-eQLQiJ0"
      },
      "outputs": [],
      "source": [
        "\n",
        "alongtrackpixel=[]\n",
        "lats_used=[]\n",
        "\n",
        "alongtrackpixel = np.array((pixel_closest_sat_track), dtype=np.uint8)\n",
        "lats_used = lats\n"
      ]
    },
    {
      "cell_type": "code",
      "execution_count": null,
      "metadata": {
        "id": "xlVtnFICQiJ0"
      },
      "outputs": [],
      "source": [
        "fig, axes = plt.subplots(figsize=(3, 3), dpi=300, constrained_layout=True, sharex=True)\n",
        "plt.plot(lats_used, alongtrackpixel[:, 1], label=\"Satellite Track Intensity\")"
      ]
    },
    {
      "cell_type": "code",
      "execution_count": null,
      "metadata": {
        "id": "7O6ViY1JQiJ0"
      },
      "outputs": [],
      "source": [
        "plt.pcolormesh(im_good.get_coordinates()[:, :, 0], im_good.get_coordinates()[:, :, 1],im_good.get_array())\n",
        "plt.ylim(62,64)\n",
        "plt.xlim(-120, -110)\n",
        "plt.plot(sat_lla_E[1], sat_lla_E[0])\n",
        "plt.plot(im_good.get_coordinates()[:, 300, 0], im_good.get_coordinates()[:, 300, 1])"
      ]
    },
    {
      "cell_type": "code",
      "execution_count": null,
      "metadata": {
        "id": "qmwfaaF-QiJ0"
      },
      "outputs": [],
      "source": [
        "\n",
        "unique_latitudes, indices = np.unique(lats_used, return_index=True)\n",
        "avg_pixel_intensity = np.array([np.mean(alongtrackpixel[:, 1][lats_used == lat]) for lat in unique_latitudes])\n",
        "Etime_averaged= np.array(Etime[indicies])\n",
        "# Create a cubic spline interpolator\n",
        "spline = CubicSpline(unique_latitudes, avg_pixel_intensity)\n",
        "\n",
        "# Create a finer grid of latitude values for smoother plotting\n",
        "latitudes_dense_sat = np.linspace(unique_latitudes.min(), unique_latitudes.max(), 400)\n",
        "smoothed_intensity_sat = spline(latitudes_dense_sat)"
      ]
    },
    {
      "cell_type": "markdown",
      "metadata": {
        "id": "6OZ2qqDLQiJ0"
      },
      "source": [
        "We want our plots to have lat verus data\n"
      ]
    },
    {
      "cell_type": "code",
      "execution_count": null,
      "metadata": {
        "id": "8ygP_o9tQiJ0"
      },
      "outputs": [],
      "source": [
        "\n",
        "fig_data, axes = plt.subplots(figsize=(6,6), nrows=3, dpi=300, constrained_layout=True, sharex=True)\n",
        "#We want B east and north, then E north and East and then the pixel intensity of the satellite and the pixel intensity of the keogram\n",
        "axes[0].plot(lat16, VNEC[:, 1], label=r\"$V_{E}$\")\n",
        "\n",
        "\n",
        "\n",
        "\n",
        "\n",
        "Btwin=axes[1].twinx()\n",
        "Btwin.plot(lat50,BNEC[:,0], label=r\"$B_{N}$\", color='green')\n",
        "Btwin.tick_params(axis='y', colors='green')\n",
        "axes[1].plot(lat50,BNEC[:,0], label=r\"$B_{N}$\", color='green')\n",
        "axes[1].plot(lat50, BNEC[:, 1], label=r\"$B_{E}$\")\n",
        "\n",
        "\n",
        "axes[2].plot(latitudes_dense_sat, smoothed_intensity_sat, label=\"Satellite Track \")\n",
        "\n",
        "\n",
        "\n",
        "\n",
        "plt.suptitle(\"In-situ Measurements of Swarm and TREx-RGB\", y=1)\n",
        "fig_data.supxlabel(\"Latitude\")\n",
        "\n",
        "axes[0].legend(loc=3)\n",
        "axes[1].legend(loc=3)\n",
        "axes[2].legend(loc=3)\n",
        "\n",
        "plt.tight_layout(pad=0.3, w_pad=0.6, h_pad=1.2)\n",
        "\n",
        "axes[0].set_ylabel(r\"Ion Velocities East (m/s)\")\n",
        "axes[1].set_ylabel(r\"Magnetic Field (nT)\")\n",
        "axes[2].set_ylabel(r\"Green Channel Pixel Intensity\", labelpad=20)\n",
        "\n",
        "axes[0].set_xlim(62.25, 62.5)\n",
        "axes[1].set_xlim(62.25, 62.5)\n",
        "axes[2].set_xlim(62.25, 62.5)\n",
        "\n",
        "axes[2].set_ylim(20,50)\n",
        "axes[1].set_ylim(-420,-250)\n",
        "axes[0].set_ylim(-500, 1500)\n",
        "Btwin.set_ylim(60,90)\n",
        "\n"
      ]
    },
    {
      "cell_type": "markdown",
      "metadata": {
        "id": "VYTjJ0QjQiJ0"
      },
      "source": [
        "Now synthesize both plots together, ie: satellite aligned keogram and insitu-data"
      ]
    },
    {
      "cell_type": "code",
      "execution_count": null,
      "metadata": {
        "id": "bX3GTINlQiJ1"
      },
      "outputs": [],
      "source": [
        "\n",
        "# Create a new figure\n",
        "fig = plt.figure(figsize=(9.5, 6), dpi=300)  # Adjust figure size as needed\n",
        "import matplotlib.gridspec as gridspec\n",
        "# Define GridSpec with 1 column on the left and 3 stacked rows on the right\n",
        "gs = gridspec.GridSpec(3, 2, figure=fig, wspace=0.275, hspace=0.125)  # 3 rows, 4 columns for flexibility\n",
        "\n",
        "# Left column: Spanning all 3 rows\n",
        "ax1 = fig.add_subplot(gs[:, 1])  # Entire left column\n",
        "ax1.tick_params(axis='both', colors='white', labelcolor='black')\n",
        "def quiverplot():\n",
        "    im = ax1.pcolormesh( time_sat_keo, sat_lla_E[0], np.swapaxes(pixel_closest_sat, 1, 0 )[:,:,1], vmin=30, vmax=50)\n",
        "\n",
        "    ax1.set_ylim(62,62.8)\n",
        "\n",
        "\n",
        "    from scipy.interpolate import CubicSpline\n",
        "    cs = CubicSpline(Btime, sat_lla_B[0])\n",
        "    latitudes_16sps = cs(Etime)\n",
        "    cs = CubicSpline(Btime, BNEC[:,1])\n",
        "    Bs_16sps = cs(Etime)\n",
        "    u_zeros = np.zeros_like(-Bs_16sps)\n",
        "    print(np.max(np.abs(VNEC[:, 1])))\n",
        "    U_perpendicular = (-Bs_16sps-250) / 500  # Inverting y-component for perpendicular direction\n",
        "    V_perpendicular = (Bs_16sps+250)  / 500   # Keeping the x-component\n",
        "\n",
        "    QV1= plt.quiver( Etime,sat_lla_E[0], V_perpendicular, u_zeros, color='white', scale=1, scale_units='inches', label=\"Eastward Velocity\")\n",
        "    ax1.quiverkey(QV1, 0.77, 0.82, 0.5, r'$250 nT$', labelpos='E', coordinates='figure', labelcolor='white')\n",
        "    cbar = plt.colorbar(im)\n",
        "    from datetime import datetime\n",
        "\n",
        "\n",
        "    locator = mdates.SecondLocator(interval=15)  # Shows every minute\n",
        "    formatter = mdates.DateFormatter('%M:%S')\n",
        "\n",
        "\n",
        "    ax1.xaxis.set_major_locator(locator)\n",
        "    ax1.xaxis.set_major_formatter(formatter)\n",
        "    ax1.tick_params(axis='x', rotation=45)\n",
        "    ax1.set_xlim(datetime(2022,12,19,14,4), datetime(2022,12,19,14,5,45))\n",
        "    ax1.set_xlabel(\"Time (M:S)\", color='black')\n",
        "    ax1.set_ylabel(\"Geographic Latitude\", color='black')\n",
        "    cbar.set_label(\"Green Pixel Intensity\", rotation=270, labelpad=12.5)\n",
        "    ax1.set_title(\"Satellite-Aligned Keogram\", color='black')\n",
        "quiverplot()\n",
        "\n",
        "\n",
        "\n",
        "\n",
        "# Right column: 3 stacked rows\n",
        "ax2 = fig.add_subplot(gs[0, 0])  # Top-right subplot\n",
        "ax3 = fig.add_subplot(gs[1, 0])  # Middle-right subplot\n",
        "ax4 = fig.add_subplot(gs[2, 0])  # Bottom-right subplot\n",
        "plt.setp(ax2.get_xticklabels(), visible=False)\n",
        "plt.setp(ax3.get_xticklabels(), visible=False)\n",
        "\n",
        "axes=[ax2,ax3,ax4]\n",
        "axes[0].plot(lat16, VNEC[:, 1], label=r\"$V_{E}$\")\n",
        "\n",
        "\n",
        "\n",
        "\n",
        "\n",
        "Btwin=axes[1].twinx()\n",
        "Btwin.plot(lat50,BNEC[:,0], label=r\"$B_{N}$\", color='red')\n",
        "Btwin.tick_params(axis='y', colors='red')\n",
        "axes[1].plot(lat50,BNEC[:,0], label=r\"$B_{N}$\", color='red')\n",
        "axes[1].plot(lat50, BNEC[:, 1], label=r\"$B_{E}$\")\n",
        "\n",
        "\n",
        "axes[2].plot(latitudes_dense_sat, smoothed_intensity_sat, label=\"Satellite Track \")\n",
        "\n",
        "\n",
        "\n",
        "axes[0].set_title(\"In-situ Measurements of Swarm and TREx-RGB\", y=1)\n",
        "fig_data.supxlabel(\"Latitude\")\n",
        "axes[0].legend(loc=4)\n",
        "axes[1].legend(loc=1)\n",
        "axes[2].legend(loc=1)\n",
        "\n",
        "plt.tight_layout(pad=0, w_pad=0.6, h_pad=0)\n",
        "\n",
        "axes[0].set_ylabel(r\"Ion Velocities East (m/s)\")\n",
        "axes[1].set_ylabel(r\"Magnetic Field (nT)\")\n",
        "axes[2].set_ylabel(r\"Green Pixel Intensity\", labelpad=18)\n",
        "axes[2].set_xlabel(r\"Geographic Latitude\")\n",
        "import pandas as pd\n",
        "\n",
        "\n",
        "axes[0].set_xlim(62.25, 63)\n",
        "axes[1].set_xlim(62.25, 63)\n",
        "axes[2].set_xlim(62.25, 63)\n",
        "\n",
        "axes[2].set_ylim(22,50)\n",
        "axes[1].set_ylim(-420,-250)\n",
        "axes[0].set_ylim(-500, 1500)\n",
        "Btwin.set_ylim(0,170)\n",
        "\n",
        "ax1.text(0.02, 0.98, \"D)\", transform=ax1.transAxes, fontsize=13, fontweight='bold', va='top', ha='left', color='white')\n",
        "ax2.text(0.02, 0.98, \"A)\", transform=ax2.transAxes, fontsize=13, fontweight='bold', va='top', ha='left')\n",
        "ax3.text(0.02, 0.98, \"B)\", transform=ax3.transAxes, fontsize=13, fontweight='bold', va='top', ha='left')\n",
        "ax4.text(0.02, 0.98, \"C)\", transform=ax4.transAxes, fontsize=13, fontweight='bold', va='top', ha='left')\n",
        "\n",
        "# Display layout\n",
        "plt.tight_layout()\n",
        "plt.show()\n"
      ]
    },
    {
      "cell_type": "code",
      "execution_count": null,
      "metadata": {
        "id": "k0XRT_yQQiJ1"
      },
      "outputs": [],
      "source": [
        "\n",
        "# Create a new figure\n",
        "fig = plt.figure(figsize=(15, 8), dpi=300)  # Adjust figure size as needed\n",
        "\n",
        "# Define GridSpec with 1 column on the left and 3 stacked rows on the right\n",
        "gs = gridspec.GridSpec(4, 3, figure=fig, wspace=0.25, hspace=0.125)  # 3 rows, 4 columns for flexibility\n",
        "\n",
        "# Left column: Spanning all 3 rows\n",
        "ax1 = fig.add_subplot(gs[:, 1])  # Entire left column\n",
        "ax1.tick_params(axis='both', colors='white', labelcolor='black')\n",
        "ax2 = fig.add_subplot(gs[:, 2])  # Entire left column\n",
        "ax2.tick_params(axis='both', colors='white', labelcolor='black')\n",
        "def quiverplot_V():\n",
        "    im = ax1.pcolormesh( time_sat_keo, sat_lla_E[0], np.swapaxes(pixel_closest_sat, 1, 0 )[:,:,1], vmin=30, vmax=50)\n",
        "\n",
        "    ax1.set_ylim(62,62.8)\n",
        "\n",
        "\n",
        "    from scipy.interpolate import CubicSpline\n",
        "    cs = CubicSpline(Btime, sat_lla_B[0])\n",
        "    latitudes_16sps = cs(Etime)\n",
        "    cs = CubicSpline(Btime, BNEC[:,0])\n",
        "    Bs_16sps = cs(Etime)\n",
        "    u_zeros = np.zeros_like(VNEC[:, 1])\n",
        "    print(np.max(np.abs(VNEC[:, 1])))\n",
        "    U_perpendicular = -VNEC[:, 1] / 2000  # Inverting y-component for perpendicular direction\n",
        "    V_perpendicular = VNEC[:, 1] / 2000   # Keeping the x-component\n",
        "\n",
        "    QV1= ax1.quiver( Etime,sat_lla_E[0], V_perpendicular, u_zeros, color='white', scale=0.75, scale_units='inches', label=\"Eastward Velocity\")\n",
        "    ax1.quiverkey(QV1, 0.46, 0.82, 0.5, r'$1000 \\ \\frac{\\text{m}}{\\text{s}}$', labelpos='E', coordinates='figure', labelcolor='white', transform=ax1.transAxes, fontproperties={\"size\": 13})\n",
        "    from datetime import datetime\n",
        "\n",
        "\n",
        "    locator = mdates.SecondLocator(interval=15)  # Shows every minute\n",
        "    formatter = mdates.DateFormatter('%M:%S')\n",
        "\n",
        "\n",
        "    ax1.xaxis.set_major_locator(locator)\n",
        "    ax1.xaxis.set_major_formatter(formatter)\n",
        "    ax1.tick_params(axis='x', rotation=45)\n",
        "    ax1.set_xlim(datetime(2022,12,19,14,4), datetime(2022,12,19,14,5,45))\n",
        "    ax1.set_xlabel(\"Time (M:S)\", color='black')\n",
        "    ax1.set_ylabel(\"Geographic Latitude\", color='black')\n",
        "    ax1.set_title(\"Satellite-Aligned Keogram\", color='black')\n",
        "\n",
        "def quiverplot_B():\n",
        "    im = ax2.pcolormesh( time_sat_keo, sat_lla_E[0], np.swapaxes(pixel_closest_sat, 1, 0 )[:,:,1], vmin=30, vmax=50)\n",
        "\n",
        "    ax2.set_ylim(62,62.8)\n",
        "\n",
        "\n",
        "    from scipy.interpolate import CubicSpline\n",
        "    cs = CubicSpline(Btime, sat_lla_B[0])\n",
        "    latitudes_16sps = cs(Etime)\n",
        "    cs = CubicSpline(Btime, BNEC[:,1])\n",
        "    Bs_16sps = cs(Etime)\n",
        "    u_zeros = np.zeros_like(-Bs_16sps)\n",
        "    print(np.max(np.abs(VNEC[:, 1])))\n",
        "    U_perpendicular = (-Bs_16sps-250) / 250  # Inverting y-component for perpendicular direction\n",
        "    V_perpendicular = (Bs_16sps+250)  / 250   # Keeping the x-component\n",
        "\n",
        "    QV1= plt.quiver( Etime,sat_lla_E[0], V_perpendicular, u_zeros, color='white', scale=0.8, scale_units='inches', label=\"Eastward Velocity\")\n",
        "    ax2.quiverkey(QV1, 0.8, 0.82, 0.5, r'$250 \\text{nT}$', labelpos='E', coordinates='figure', labelcolor='white',transform=ax2.transAxes, fontproperties={\"size\": 13})\n",
        "    cbar = plt.colorbar(im, pad=-0.035)\n",
        "    from datetime import datetime\n",
        "\n",
        "\n",
        "    locator = mdates.SecondLocator(interval=15)  # Shows every minute\n",
        "    formatter = mdates.DateFormatter('%M:%S')\n",
        "\n",
        "\n",
        "    ax2.xaxis.set_major_locator(locator)\n",
        "    ax2.xaxis.set_major_formatter(formatter)\n",
        "    ax2.tick_params(axis='x', rotation=45)\n",
        "    ax2.set_xlim(datetime(2022,12,19,14,4), datetime(2022,12,19,14,5,45))\n",
        "    ax2.set_xlabel(\"Time (M:S)\", color='black')\n",
        "    cbar.set_label(\"Green Pixel Intensity\", rotation=270, labelpad=12.5)\n",
        "    ax2.set_title(\"Satellite-Aligned Keogram\", color='black')\n",
        "    plt.setp(ax2.get_yticklabels(), visible=False)\n",
        "    pos = ax2.get_position()\n",
        "    ax2.set_position([pos.x0 - 0.03, pos.y0, pos.width, pos.height])\n",
        "    #pos = cbar.ax.get_position()\n",
        "    #ax2.set_position([pos.x0 - 0.02, pos.y0, pos.width, pos.height])\n",
        "\n",
        "quiverplot_V()\n",
        "quiverplot_B()\n",
        "# Right column: 3 stacked rows\n",
        "ax3 = fig.add_subplot(gs[0, 0])  # Top-right subplot\n",
        "ax4 = fig.add_subplot(gs[1, 0])  # Middle-right subplot\n",
        "ax5 = fig.add_subplot(gs[2, 0])  # Bottom-right subplot\n",
        "ax6 = fig.add_subplot(gs[3, 0])  # Bottom-right subplot\n",
        "plt.setp(ax4.get_xticklabels(), visible=False)\n",
        "plt.setp(ax3.get_xticklabels(), visible=False)\n",
        "axes=[ax3,ax4,ax5, ax6]\n",
        "axes[0].plot(lat16, VNEC[:, 1], label=r\"$V_{E}$\")\n",
        "\n",
        "\n",
        "\n",
        "\n",
        "\n",
        "Btwin=axes[1].twinx()\n",
        "Btwin.plot(lat50,BNEC[:,0], label=r\"$B_{N}$\", color='red')\n",
        "Btwin.tick_params(axis='y', colors='red')\n",
        "axes[1].plot(lat50,BNEC[:,0], label=r\"$B_{N}$\", color='red')\n",
        "axes[1].plot(lat50, BNEC[:, 1], label=r\"$B_{E}$\")\n",
        "\n",
        "\n",
        "axes[2].plot(latitudes_dense_sat, smoothed_intensity_sat, label=\"Satellite Track \")\n",
        "\n",
        "\n",
        "1\n",
        "\n",
        "axes[0].set_title(\"In-situ Measurements of Swarm and TREx-RGB\", y=1)\n",
        "fig_data.supxlabel(\"Latitude\")\n",
        "axes[0].legend(loc=4)\n",
        "axes[1].legend(loc=1)\n",
        "axes[2].legend(loc=1)\n",
        "\n",
        "plt.tight_layout(pad=0, w_pad=0, h_pad=0)\n",
        "\n",
        "axes[0].set_ylabel(r\"Ion Velocities East (m/s)\")\n",
        "axes[1].set_ylabel(r\"Magnetic Field (nT)\")\n",
        "axes[2].set_ylabel(r\"Green Pixel Intensity\", labelpad=18)\n",
        "axes[2].set_xlabel(r\"Geographic Latitude\")\n",
        "import pandas as pd\n",
        "\n",
        "\n",
        "axes[0].set_xlim(62.25, 63)\n",
        "axes[1].set_xlim(62.25, 63)\n",
        "axes[2].set_xlim(62.25, 63)\n",
        "\n",
        "axes[2].set_ylim(22,50)\n",
        "axes[1].set_ylim(-420,-250)\n",
        "axes[0].set_ylim(-500, 1500)\n",
        "Btwin.set_ylim(0,170)\n",
        "\n",
        "ax1.text(0.02, 0.98, \"E)\", transform=ax1.transAxes, fontsize=13, fontweight='bold', va='top', ha='left', color='white')\n",
        "ax2.text(0.02, 0.98, \"F)\", transform=ax2.transAxes, fontsize=13, fontweight='bold', va='top', ha='left', color='white')\n",
        "ax3.text(0.02, 0.98, \"A)\", transform=ax3.transAxes, fontsize=13, fontweight='bold', va='top', ha='left')\n",
        "ax4.text(0.02, 0.98, \"B)\", transform=ax4.transAxes, fontsize=13, fontweight='bold', va='top', ha='left')\n",
        "ax5.text(0.02, 0.98, \"C)\", transform=ax5.transAxes, fontsize=13, fontweight='bold', va='top', ha='left')\n",
        "ax5.text(0.02, 0.98, \"D)\", transform=ax6.transAxes, fontsize=13, fontweight='bold', va='top', ha='left')\n",
        "\n",
        "\n",
        "\n"
      ]
    },
    {
      "cell_type": "markdown",
      "metadata": {
        "id": "1BUONHyrQiJ1"
      },
      "source": [
        "Great now last step, we need make a periodogram from the interval of 63.4 to 63.3 of B in graph D"
      ]
    },
    {
      "cell_type": "markdown",
      "metadata": {
        "id": "0RitsH1KQiJ1"
      },
      "source": [
        "This is from the technique in Miles et al. 2018 where peridograms were used to detect the Ionospheric Alfven Resonator."
      ]
    },
    {
      "cell_type": "markdown",
      "metadata": {
        "id": "gwxbeLYkQiJ1"
      },
      "source": [
        "Although it should be okay, we will be using only the 50Hz data rather than downsampled 50Hz data"
      ]
    },
    {
      "cell_type": "code",
      "execution_count": null,
      "metadata": {
        "id": "ZowLpa1vQiJ1"
      },
      "outputs": [],
      "source": [
        "indicies_between_3and4 = np.where((62.25 <= sat_lla_B[0]) & (63 >= sat_lla_B[0]))[0]\n",
        "print(indicies_between_3and4)"
      ]
    },
    {
      "cell_type": "code",
      "execution_count": null,
      "metadata": {
        "id": "L2lo3mPkQiJ1"
      },
      "outputs": [],
      "source": [
        "plt.plot(sat_lla_B[0][indicies_between_3and4], BNEC[indicies_between_3and4,1])"
      ]
    },
    {
      "cell_type": "code",
      "execution_count": null,
      "metadata": {
        "id": "Y6rHlJONQiJ2"
      },
      "outputs": [],
      "source": [
        "import scipy.signal\n",
        "print(int(len(BNEC[indicies_between_3and4,1])/50))\n",
        "periodogram_data= scipy.signal.welch(BNEC[indicies_between_3and4,1], 50, detrend=None,scaling='spectrum', nperseg=50*6, window=\"hann\")\n",
        "\n",
        "cs = CubicSpline(Btime, BNEC)\n",
        "Bs_16sps = cs(Etime)\n",
        "\n",
        "\n",
        "indicies_between_3and4E = np.where((62.25 <= sat_lla_E[0]) & (63 >= sat_lla_E[0]))[0]\n",
        "\n",
        "print(np.shape(ENEC))\n",
        "periodogram_data_E= scipy.signal.welch(ENEC[indicies_between_3and4E,0], 16, detrend=None,scaling='spectrum', nperseg=16*6, window=\"hann\")"
      ]
    },
    {
      "cell_type": "code",
      "execution_count": null,
      "metadata": {
        "id": "tTYc-UAfQiJ2"
      },
      "outputs": [],
      "source": [
        "plt.plot(periodogram_data[0], np.sqrt(periodogram_data[1]), label='b50')\n",
        "print(periodogram_data_E[0],periodogram_data[0])\n",
        "print(len(periodogram_data_E[0]))\n",
        "print(periodogram_data[0][:len(periodogram_data_E[0])])\n",
        "plt.plot(periodogram_data_E[0], np.sqrt(periodogram_data_E[1]), label='e')\n",
        "plt.yscale(\"log\")\n",
        "plt.xlim(0.5,8)\n",
        "plt.ylim(3e-2,1e1)\n",
        "plt.legend()\n"
      ]
    },
    {
      "cell_type": "code",
      "execution_count": null,
      "metadata": {
        "id": "zHHt-kZDQiJ2"
      },
      "outputs": [],
      "source": [
        "print(periodogram_data[0][:len(periodogram_data_E[0])])\n",
        "plt.plot(periodogram_data[0][:len(periodogram_data_E[0])], 10**(-3)/10**(-9)*np.sqrt(periodogram_data_E[1][:len(periodogram_data_E[0])]/(periodogram_data[1][:len(periodogram_data_E[0])])))\n",
        "plt.yscale(\"log\")\n",
        "plt.ylim(1e5,1e9)\n"
      ]
    },
    {
      "cell_type": "code",
      "execution_count": null,
      "metadata": {
        "id": "RSVGAcg-QiJ2"
      },
      "outputs": [],
      "source": [
        "Va=np.mean(10**(-3)/10**(-9)*np.sqrt(periodogram_data_E[1][:len(periodogram_data_E[0])]/(periodogram_data[1][:len(periodogram_data_E[0])])))\n",
        "mu=4*np.pi*10e-7\n",
        "Sigma_p=3\n",
        "plt.plot(periodogram_data[0][:len(periodogram_data_E[0])], 10**(-3)/10**(-9)*np.sqrt(periodogram_data_E[1][:len(periodogram_data_E[0])]/(periodogram_data[1][:len(periodogram_data_E[0])])))\n",
        "plt.yscale(\"log\")\n",
        "plt.axhline(1/(Sigma_p *mu))\n",
        "plt.axhline(mu*Va**2*Sigma_p)"
      ]
    },
    {
      "cell_type": "code",
      "execution_count": null,
      "metadata": {
        "id": "6ohpDubhQiJ2"
      },
      "outputs": [],
      "source": [
        "\n",
        "# Create a new figure\n",
        "fig = plt.figure(figsize=(14, 12), dpi=300)  # Adjust figure size as needed\n",
        "\n",
        "# Define GridSpec with 1 column on the left and 3 stacked rows on the right\n",
        "gs = gridspec.GridSpec(4, 3, figure=fig, wspace=0.25, hspace=0.125)  # 3 rows, 4 columns for flexibility\n",
        "\n",
        "# Left column: Spanning all 3 rows\n",
        "ax1 = fig.add_subplot(gs[:, 1])  # Entire left column\n",
        "ax1.tick_params(axis='both', colors='white', labelcolor='black')\n",
        "ax2 = fig.add_subplot(gs[:, 2])  # Entire left column\n",
        "ax2.tick_params(axis='both', colors='white', labelcolor='black')\n",
        "def quiverplot_V():\n",
        "    im = ax1.pcolormesh( time_sat_keo, sat_lla_E[0], np.swapaxes(pixel_closest_sat, 1, 0 )[:,:,1], vmin=30, vmax=50)\n",
        "\n",
        "    ax1.set_ylim(62,62.8)\n",
        "\n",
        "\n",
        "    from scipy.interpolate import CubicSpline\n",
        "    cs = CubicSpline(Btime, sat_lla_B[0])\n",
        "    latitudes_16sps = cs(Etime)\n",
        "    cs = CubicSpline(Btime, BNEC[:,0])\n",
        "    Bs_16sps = cs(Etime)\n",
        "    u_zeros = np.zeros_like(VNEC[:, 1])\n",
        "    print(np.max(np.abs(VNEC[:, 1])))\n",
        "    U_perpendicular = -VNEC[:, 1] / 2000  # Inverting y-component for perpendicular direction\n",
        "    V_perpendicular = VNEC[:, 1] / 2000   # Keeping the x-component\n",
        "\n",
        "    QV1= ax1.quiver( Etime,sat_lla_E[0], V_perpendicular, u_zeros, color='white', scale=0.75, scale_units='inches', label=\"Eastward Velocity\")\n",
        "    ax1.quiverkey(QV1, 0.46, 0.82, 0.5, r'$1000 \\ \\frac{\\text{m}}{\\text{s}}$', labelpos='E', coordinates='figure', labelcolor='white', transform=ax1.transAxes, fontproperties={\"size\": 13})\n",
        "    from datetime import datetime\n",
        "\n",
        "\n",
        "    locator = mdates.SecondLocator(interval=15)  # Shows every minute\n",
        "    formatter = mdates.DateFormatter('%M:%S')\n",
        "\n",
        "\n",
        "    ax1.xaxis.set_major_locator(locator)\n",
        "    ax1.xaxis.set_major_formatter(formatter)\n",
        "    ax1.tick_params(axis='x', rotation=45)\n",
        "    ax1.set_xlim(datetime(2022,12,19,14,4), datetime(2022,12,19,14,5,45))\n",
        "    ax1.set_xlabel(\"Time (M:S)\", color='black')\n",
        "    ax1.set_ylabel(\"Geographic Latitude\", color='black')\n",
        "    ax1.set_title(\"Satellite-Aligned Keogram\", color='black')\n",
        "\n",
        "def quiverplot_B():\n",
        "    im = ax2.pcolormesh( time_sat_keo, sat_lla_E[0], np.swapaxes(pixel_closest_sat, 1, 0 )[:,:,1], vmin=30, vmax=50)\n",
        "\n",
        "    ax2.set_ylim(62,62.8)\n",
        "\n",
        "\n",
        "    from scipy.interpolate import CubicSpline\n",
        "    cs = CubicSpline(Btime, sat_lla_B[0])\n",
        "    latitudes_16sps = cs(Etime)\n",
        "    cs = CubicSpline(Btime, BNEC[:,1])\n",
        "    Bs_16sps = cs(Etime)\n",
        "    u_zeros = np.zeros_like(-Bs_16sps)\n",
        "    print(np.max(np.abs(VNEC[:, 1])))\n",
        "    U_perpendicular = (-Bs_16sps-250) / 250  # Inverting y-component for perpendicular direction\n",
        "    V_perpendicular = (Bs_16sps+250)  / 250   # Keeping the x-component\n",
        "\n",
        "    QV1= plt.quiver( Etime,sat_lla_E[0], V_perpendicular, u_zeros, color='white', scale=0.8, scale_units='inches', label=\"Eastward Velocity\")\n",
        "    ax2.quiverkey(QV1, 0.8, 0.82, 0.5, r'$250 \\text{nT}$', labelpos='E', coordinates='figure', labelcolor='white',transform=ax2.transAxes, fontproperties={\"size\": 13})\n",
        "    cbar = plt.colorbar(im, pad=-0.035)\n",
        "    from datetime import datetime\n",
        "\n",
        "\n",
        "    locator = mdates.SecondLocator(interval=15)  # Shows every minute\n",
        "    formatter = mdates.DateFormatter('%M:%S')\n",
        "\n",
        "\n",
        "    ax2.xaxis.set_major_locator(locator)\n",
        "    ax2.xaxis.set_major_formatter(formatter)\n",
        "    ax2.tick_params(axis='x', rotation=45)\n",
        "    ax2.set_xlim(datetime(2022,12,19,14,4), datetime(2022,12,19,14,5,45))\n",
        "    ax2.set_xlabel(\"Time (M:S)\", color='black')\n",
        "    cbar.set_label(\"Green Pixel Intensity\", rotation=270, labelpad=12.5)\n",
        "    ax2.set_title(\"Satellite-Aligned Keogram\", color='black')\n",
        "    plt.setp(ax2.get_yticklabels(), visible=False)\n",
        "    pos = ax2.get_position()\n",
        "    ax2.set_position([pos.x0 - 0.03, pos.y0, pos.width, pos.height])\n",
        "    #pos = cbar.ax.get_position()\n",
        "    #ax2.set_position([pos.x0 - 0.02, pos.y0, pos.width, pos.height])\n",
        "\n",
        "quiverplot_V()\n",
        "quiverplot_B()\n",
        "# Right column: 3 stacked rows\n",
        "ax3 = fig.add_subplot(gs[0, 0])  # Top-right subplot\n",
        "ax4 = fig.add_subplot(gs[1, 0])  # Middle-right subplot\n",
        "ax5 = fig.add_subplot(gs[2, 0])  # Bottom-right subplot\n",
        "ax6 = fig.add_subplot(gs[3, 0], )  # Bottom-right subplot\n",
        "plt.setp(ax4.get_xticklabels(), visible=False)\n",
        "plt.setp(ax3.get_xticklabels(), visible=False)\n",
        "axes=[ax3,ax4,ax5, ax6]\n",
        "axes[0].plot(lat16, VNEC[:, 1], label=r\"$V_{E}$\")\n",
        "\n",
        "\n",
        "\n",
        "\n",
        "\n",
        "Btwin=axes[1].twinx()\n",
        "Btwin.plot(lat50,BNEC[:,0], label=r\"$B_{N}$\", color='red')\n",
        "Btwin.tick_params(axis='y', colors='red')\n",
        "axes[1].plot(lat50,BNEC[:,0], label=r\"$B_{N}$\", color='red')\n",
        "axes[1].plot(lat50, BNEC[:, 1], label=r\"$B_{E}$\")\n",
        "\n",
        "\n",
        "axes[2].plot(latitudes_dense_sat, smoothed_intensity_sat, label=\"Satellite Track \")\n",
        "\n",
        "\n",
        "\n",
        "axes[0].set_title(\"In-situ Measurements of Swarm and TREx-RGB\", y=1)\n",
        "fig_data.supxlabel(\"Latitude\")\n",
        "axes[0].legend(loc=4)\n",
        "axes[1].legend(loc=1)\n",
        "axes[2].legend(loc=1)\n",
        "\n",
        "plt.tight_layout(pad=0, w_pad=0, h_pad=0)\n",
        "\n",
        "axes[0].set_ylabel(r\"Ion Velocities East (m/s)\")\n",
        "axes[1].set_ylabel(r\"Magnetic Field (nT)\")\n",
        "axes[2].set_ylabel(r\"Green Pixel Intensity\", labelpad=18)\n",
        "axes[2].set_xlabel(r\"Geographic Latitude\")\n",
        "import pandas as pd\n",
        "\n",
        "\n",
        "axes[0].set_xlim(62.25, 63)\n",
        "axes[1].set_xlim(62.25, 63)\n",
        "axes[2].set_xlim(62.25, 63)\n",
        "\n",
        "axes[2].set_ylim(22,50)\n",
        "axes[1].set_ylim(-420,-250)\n",
        "axes[0].set_ylim(-500, 1500)\n",
        "\n",
        "axes[3].plot(periodogram_data[0], np.sqrt(periodogram_data[1]))\n",
        "axes[3].set_yscale(\"log\")\n",
        "axes[3].set_xlim(0,8)\n",
        "axes[3].set_ylim(3e-2,1e1)\n",
        "axes[3].set_ylabel(\"Amplitude Spectra of B (nT)\", labelpad=8)\n",
        "axes[3].set_xlabel(\"Frequency (Hz)\")\n",
        "pos = axes[3].get_position()\n",
        "axes[3].set_position([pos.x0, pos.y0 -0.02, pos.width, pos.height])\n",
        "\n",
        "\n",
        "\n",
        "Btwin.set_ylim(0,170)\n",
        "\n",
        "ax1.text(0.02, 0.98, \"E)\", transform=ax1.transAxes, fontsize=13, fontweight='bold', va='top', ha='left', color='white')\n",
        "ax2.text(0.02, 0.98, \"F)\", transform=ax2.transAxes, fontsize=13, fontweight='bold', va='top', ha='left', color='white')\n",
        "ax3.text(0.02, 0.98, \"A)\", transform=ax3.transAxes, fontsize=13, fontweight='bold', va='top', ha='left')\n",
        "ax4.text(0.02, 0.98, \"B)\", transform=ax4.transAxes, fontsize=13, fontweight='bold', va='top', ha='left')\n",
        "ax5.text(0.02, 0.98, \"C)\", transform=ax5.transAxes, fontsize=13, fontweight='bold', va='top', ha='left')\n",
        "ax6.text(0.92, 0.98, \"D)\", transform=ax6.transAxes, fontsize=13, fontweight='bold', va='top', ha='left')\n",
        "\n",
        "\n",
        "\n"
      ]
    },
    {
      "cell_type": "code",
      "execution_count": null,
      "metadata": {
        "id": "e5ZVRTNuQiJ2"
      },
      "outputs": [],
      "source": [
        "\n",
        "from scipy.signal import butter, filtfilt\n",
        "\n",
        "# Parameters\n",
        "fs = 50  # Sampling frequency in Hz\n",
        "lowcut = 0.1  # Lower cutoff frequency (Hz)\n",
        "highcut = 10.0  # Upper cutoff frequency (Hz)\n",
        "order = 2\n",
        "\n",
        "# Normalize the cutoff frequencies (relative to Nyquist frequency)\n",
        "nyq = 0.5 * fs\n",
        "low = lowcut / nyq\n",
        "high = highcut / nyq\n",
        "\n",
        "# Create Butterworth filter\n",
        "b, a = butter(order, [low, high], btype='band')\n",
        "\n",
        "\n",
        "# Apply zero-phase filtering\n",
        "filtered_signal = filtfilt(b, a, BNEC[:, 1])\n",
        "\n",
        "#plt.plot(lat50, BNEC[:, 1], label='Original Signal', alpha=0.5)\n",
        "plt.plot(lat50, filtered_signal, label='Filtered Signal (0–8 Hz)')\n",
        "#plt.xlim(62,63)"
      ]
    },
    {
      "cell_type": "code",
      "execution_count": null,
      "metadata": {
        "id": "pmqDB3H7QiJ3"
      },
      "outputs": [],
      "source": [
        "\n",
        "# Create a new figure\n",
        "fig = plt.figure(figsize=(14, 12), dpi=300)  # Adjust figure size as needed\n",
        "\n",
        "# Define GridSpec with 1 column on the left and 3 stacked rows on the right\n",
        "gs = gridspec.GridSpec(4, 3, figure=fig, wspace=0.28, hspace=0.125)  # 3 rows, 4 columns for flexibility\n",
        "\n",
        "# Left column: Spanning all 3 rows\n",
        "ax1 = fig.add_subplot(gs[:, 1])  # Entire left column\n",
        "ax1.tick_params(axis='both', colors='white', labelcolor='black', which='both')\n",
        "ax2 = fig.add_subplot(gs[:, 2])  # Entire left column\n",
        "ax2.tick_params(axis='both', colors='white', labelcolor='black', which='both')\n",
        "def quiverplot_V():\n",
        "    im = ax1.pcolormesh( time_sat_keo, sat_lla_E[0], np.swapaxes(pixel_closest_sat, 1, 0 )[:,:,1], vmin=30, vmax=50)\n",
        "\n",
        "    ax1.set_ylim(62,62.8)\n",
        "\n",
        "\n",
        "    from scipy.interpolate import CubicSpline\n",
        "    cs = CubicSpline(Btime, sat_lla_B[0])\n",
        "    latitudes_16sps = cs(Etime)\n",
        "    cs = CubicSpline(Btime, BNEC[:,0])\n",
        "    Bs_16sps = cs(Etime)\n",
        "    u_zeros = np.zeros_like(VNEC[:, 1])\n",
        "    print(np.max(np.abs(VNEC[:, 1])))\n",
        "    U_perpendicular = -VNEC[:, 1] / 2000  # Inverting y-component for perpendicular direction\n",
        "    V_perpendicular = VNEC[:, 1] / 2000   # Keeping the x-component\n",
        "\n",
        "    QV1= ax1.quiver( Etime,sat_lla_E[0], V_perpendicular, u_zeros, color='white', scale=0.75, scale_units='inches', label=\"Eastward Velocity\")\n",
        "    ax1.quiverkey(QV1, 0.46, 0.82, 0.5, r'$1000 \\ \\frac{\\text{m}}{\\text{s}}$', labelpos='E', coordinates='figure', labelcolor='white', transform=ax1.transAxes, fontproperties={\"size\": 13})\n",
        "    from datetime import datetime\n",
        "\n",
        "\n",
        "    locator = mdates.SecondLocator(interval=15)  # Shows every minute\n",
        "    formatter = mdates.DateFormatter('%M:%S')\n",
        "\n",
        "\n",
        "    ax1.xaxis.set_major_locator(locator)\n",
        "    ax1.xaxis.set_major_formatter(formatter)\n",
        "    ax1.tick_params(axis='x', rotation=45)\n",
        "    ax1.set_xlim(datetime(2022,12,19,14,4), datetime(2022,12,19,14,5,45))\n",
        "    ax1.set_xlabel(\"Time (M:S)\", color='black')\n",
        "    ax1.set_ylabel(\"Geographic Latitude\", color='black')\n",
        "    ax1.set_title(\"Satellite-Aligned Keogram\", color='black')\n",
        "\n",
        "def quiverplot_B():\n",
        "    im = ax2.pcolormesh( time_sat_keo, sat_lla_E[0], np.swapaxes(pixel_closest_sat, 1, 0 )[:,:,1], vmin=30, vmax=50)\n",
        "\n",
        "    ax2.set_ylim(62,62.8)\n",
        "\n",
        "\n",
        "    from scipy.interpolate import CubicSpline\n",
        "    cs = CubicSpline(Btime, sat_lla_B[0])\n",
        "    latitudes_16sps = cs(Etime)\n",
        "    cs = CubicSpline(Btime,  filtered_signal)\n",
        "    Bs_16sps = cs(Etime)\n",
        "    u_zeros = np.zeros_like(-Bs_16sps)\n",
        "    print(np.max(np.abs(VNEC[:, 1])))\n",
        "    U_perpendicular = (-Bs_16sps) / 50  # Inverting y-component for perpendicular direction\n",
        "    V_perpendicular = (Bs_16sps)  / 50   # Keeping the x-component\n",
        "\n",
        "    QV1= plt.quiver( Etime,sat_lla_E[0], V_perpendicular, u_zeros, color='white', scale=0.8, scale_units='inches', label=\"Eastward Velocity\")\n",
        "    ax2.quiverkey(QV1, 0.706, 0.82, 0.5, r'$50 \\text{nT}$', labelpos='E', coordinates='figure', labelcolor='white',transform=ax2.transAxes, fontproperties={\"size\": 13})\n",
        "    cbar = plt.colorbar(im, pad=-0.035)\n",
        "    from datetime import datetime\n",
        "\n",
        "\n",
        "    locator = mdates.SecondLocator(interval=15)  # Shows every minute\n",
        "    formatter = mdates.DateFormatter('%M:%S')\n",
        "\n",
        "\n",
        "    ax2.xaxis.set_major_locator(locator)\n",
        "    ax2.xaxis.set_major_formatter(formatter)\n",
        "    ax2.tick_params(axis='x', rotation=45)\n",
        "    ax2.set_xlim(datetime(2022,12,19,14,4), datetime(2022,12,19,14,5,45))\n",
        "    ax2.set_xlabel(\"Time (M:S)\", color='black')\n",
        "    cbar.set_label(\"Green Pixel Intensity\", rotation=270, labelpad=12.5)\n",
        "    ax2.set_title(\"Satellite-Aligned Keogram\", color='black')\n",
        "    plt.setp(ax2.get_yticklabels(), visible=False)\n",
        "    pos = ax2.get_position()\n",
        "    ax2.set_position([pos.x0 - 0.03, pos.y0, pos.width, pos.height])\n",
        "    #pos = cbar.ax.get_position()\n",
        "    #ax2.set_position([pos.x0 - 0.02, pos.y0, pos.width, pos.height])\n",
        "\n",
        "quiverplot_V()\n",
        "quiverplot_B()\n",
        "# Right column: 3 stacked rows\n",
        "ax3 = fig.add_subplot(gs[0, 0])  # Top-right subplot\n",
        "ax4 = fig.add_subplot(gs[1, 0])  # Middle-right subplot\n",
        "ax5 = fig.add_subplot(gs[2, 0])  # Bottom-right subplot\n",
        "ax6 = fig.add_subplot(gs[3, 0], )  # Bottom-right subplot\n",
        "plt.setp(ax4.get_xticklabels(), visible=False)\n",
        "plt.setp(ax3.get_xticklabels(), visible=False)\n",
        "axes=[ax3,ax4,ax5, ax6]\n",
        "axes[0].plot(lat16, VNEC[:, 1], label=r\"$V_{E}$\")\n",
        "\n",
        "\n",
        "\n",
        "\n",
        "\n",
        "Btwin=axes[1].twinx()\n",
        "Btwin.plot(lat50,BNEC[:,0], label=r\"$B_{N}$\", color='red')\n",
        "Btwin.tick_params(axis='y', colors='red', which='both')\n",
        "axes[1].plot(lat50,BNEC[:,0], label=r\"$B_{N}$\", color='red')\n",
        "axes[1].plot(lat50, BNEC[:, 1], label=r\"$B_{E}$\")\n",
        "Btwin.plot(lat50, filtered_signal, label=r'Filter $B_{E}$ (0.1-8 Hz)', color='red', linestyle='--')\n",
        "axes[1].plot(lat50, filtered_signal, label=r'Filtered $B_{E}$ (0.1-8 Hz)', color='red', linestyle='--')\n",
        "axes[2].plot(latitudes_dense_sat, smoothed_intensity_sat, label=\"Satellite Track \")\n",
        "\n",
        "\n",
        "\n",
        "axes[0].set_title(\"In-situ Measurements of Swarm and TREx-RGB\", y=1)\n",
        "fig_data.supxlabel(\"Latitude\")\n",
        "axes[0].legend(loc=4)\n",
        "axes[1].legend(loc=1)\n",
        "axes[2].legend(loc=1)\n",
        "\n",
        "plt.tight_layout(pad=0, w_pad=0, h_pad=0)\n",
        "\n",
        "axes[0].set_ylabel(r\"Ion Velocities East (m/s)\")\n",
        "axes[1].set_ylabel(r\"Magnetic Field (nT)\")\n",
        "axes[2].set_ylabel(r\"Green Pixel Intensity\", labelpad=18)\n",
        "axes[2].set_xlabel(r\"Geographic Latitude\")\n",
        "import pandas as pd\n",
        "\n",
        "\n",
        "axes[0].set_xlim(62.25, 63)\n",
        "axes[1].set_xlim(62.25, 63)\n",
        "axes[2].set_xlim(62.25, 63)\n",
        "\n",
        "axes[2].set_ylim(22,50)\n",
        "axes[1].set_ylim(-420,-250)\n",
        "axes[0].set_ylim(-500, 1500)\n",
        "\n",
        "axes[3].plot(periodogram_data[0], np.sqrt(periodogram_data[1]))\n",
        "axes[3].set_yscale(\"log\")\n",
        "axes[3].set_xlim(0,8)\n",
        "axes[3].set_ylim(3e-2,1e1)\n",
        "axes[3].set_ylabel(\"Amplitude Spectra of B (nT)\", labelpad=8)\n",
        "axes[3].set_xlabel(\"Frequency (Hz)\")\n",
        "pos = axes[3].get_position()\n",
        "axes[3].set_position([pos.x0, pos.y0 -0.02, pos.width, pos.height])\n",
        "\n",
        "\n",
        "\n",
        "Btwin.set_ylim(-50,130)\n",
        "\n",
        "ax1.text(0.02, 0.98, \"E)\", transform=ax1.transAxes, fontsize=13, fontweight='bold', va='top', ha='left', color='white')\n",
        "ax2.text(0.02, 0.98, \"F)\", transform=ax2.transAxes, fontsize=13, fontweight='bold', va='top', ha='left', color='white')\n",
        "ax3.text(0.02, 0.98, \"A)\", transform=ax3.transAxes, fontsize=13, fontweight='bold', va='top', ha='left')\n",
        "ax4.text(0.02, 0.98, \"B)\", transform=ax4.transAxes, fontsize=13, fontweight='bold', va='top', ha='left')\n",
        "ax5.text(0.02, 0.98, \"C)\", transform=ax5.transAxes, fontsize=13, fontweight='bold', va='top', ha='left')\n",
        "ax6.text(0.92, 0.98, \"D)\", transform=ax6.transAxes, fontsize=13, fontweight='bold', va='top', ha='left')\n",
        "\n",
        "\n",
        "\n"
      ]
    },
    {
      "cell_type": "code",
      "execution_count": null,
      "metadata": {
        "id": "u2oVO5X8QiJ3"
      },
      "outputs": [],
      "source": [
        "plt.plot(periodogram_data[0], np.sqrt(periodogram_data[1]))\n",
        "\n",
        "periodogram_data= scipy.signal.welch(filtered_signal[indicies_between_3and4], 50, detrend=None,scaling='spectrum', nperseg=50*6, window=\"hann\")\n",
        "plt.plot(periodogram_data[0], np.sqrt(periodogram_data[1]))\n",
        "\n",
        "plt.yscale(\"log\")\n",
        "plt.xlim(0,10)\n",
        "plt.ylim(1e-2, 1e2)"
      ]
    },
    {
      "cell_type": "code",
      "execution_count": null,
      "metadata": {
        "id": "vjxTMcHEQiJ3"
      },
      "outputs": [],
      "source": [
        "\n",
        "# Create a new figure\n",
        "fig = plt.figure(figsize=(14, 12), dpi=300)  # Adjust figure size as needed\n",
        "\n",
        "# Define GridSpec with 1 column on the left and 3 stacked rows on the right\n",
        "gs = gridspec.GridSpec(4, 3, figure=fig, wspace=0.28, hspace=0.125)  # 3 rows, 4 columns for flexibility\n",
        "\n",
        "# Left column: Spanning all 3 rows\n",
        "ax1 = fig.add_subplot(gs[:, 1])  # Entire left column\n",
        "ax1.tick_params(axis='both', colors='white', labelcolor='black', which='both')\n",
        "ax2 = fig.add_subplot(gs[:, 2])  # Entire left column\n",
        "ax2.tick_params(axis='both', colors='white', labelcolor='black', which='both')\n",
        "def quiverplot_V():\n",
        "    im = ax1.pcolormesh( time_sat_keo, sat_lla_E[0], np.swapaxes(pixel_closest_sat, 1, 0 )[:,:,1], vmin=30, vmax=50)\n",
        "\n",
        "    ax1.set_ylim(62,62.8)\n",
        "\n",
        "\n",
        "    from scipy.interpolate import CubicSpline\n",
        "    cs = CubicSpline(Btime, sat_lla_B[0])\n",
        "    latitudes_16sps = cs(Etime)\n",
        "    cs = CubicSpline(Btime, BNEC[:,0])\n",
        "    Bs_16sps = cs(Etime)\n",
        "    u_zeros = np.zeros_like(VNEC[:, 1])\n",
        "    print(np.max(np.abs(VNEC[:, 1])))\n",
        "    U_perpendicular = -VNEC[:, 1] / 2000  # Inverting y-component for perpendicular direction\n",
        "    V_perpendicular = VNEC[:, 1] / 2000   # Keeping the x-component\n",
        "\n",
        "    QV1= ax1.quiver( Etime,sat_lla_E[0], V_perpendicular, u_zeros, color='white', scale=0.75, scale_units='inches', label=\"Eastward Velocity\")\n",
        "    ax1.quiverkey(QV1, 0.46, 0.82, 0.5, r'$1000 \\ \\frac{\\text{m}}{\\text{s}}$', labelpos='E', coordinates='figure', labelcolor='white', transform=ax1.transAxes, fontproperties={\"size\": 13})\n",
        "    from datetime import datetime\n",
        "\n",
        "\n",
        "    locator = mdates.SecondLocator(interval=15)  # Shows every minute\n",
        "    formatter = mdates.DateFormatter('%M:%S')\n",
        "\n",
        "\n",
        "    ax1.xaxis.set_major_locator(locator)\n",
        "    ax1.xaxis.set_major_formatter(formatter)\n",
        "    ax1.tick_params(axis='x', rotation=45)\n",
        "    ax1.set_xlim(datetime(2022,12,19,14,4), datetime(2022,12,19,14,5,45))\n",
        "    ax1.set_xlabel(\"Time (M:S)\", color='black')\n",
        "    ax1.set_ylabel(\"Geographic Latitude\", color='black')\n",
        "    ax1.set_title(\"Satellite-Aligned Keogram\", color='black')\n",
        "\n",
        "def quiverplot_B():\n",
        "    im = ax2.pcolormesh( time_sat_keo, sat_lla_E[0], np.swapaxes(pixel_closest_sat, 1, 0 )[:,:,1], vmin=30, vmax=50)\n",
        "\n",
        "    ax2.set_ylim(62,62.8)\n",
        "\n",
        "\n",
        "    from scipy.interpolate import CubicSpline\n",
        "    cs = CubicSpline(Btime, sat_lla_B[0])\n",
        "    latitudes_16sps = cs(Etime)\n",
        "    cs = CubicSpline(Btime,  filtered_signal)\n",
        "    Bs_16sps = cs(Etime)\n",
        "    u_zeros = np.zeros_like(-Bs_16sps)\n",
        "    print(np.max(np.abs(VNEC[:, 1])))\n",
        "    U_perpendicular = (-Bs_16sps) / 50  # Inverting y-component for perpendicular direction\n",
        "    V_perpendicular = (Bs_16sps)  / 50   # Keeping the x-component\n",
        "\n",
        "    QV1= plt.quiver( Etime,sat_lla_E[0], V_perpendicular, u_zeros, color='white', scale=0.8, scale_units='inches', label=\"Eastward Velocity\")\n",
        "    ax2.quiverkey(QV1, 0.706, 0.82, 0.5, r'$50 \\text{nT}$', labelpos='E', coordinates='figure', labelcolor='white',transform=ax2.transAxes, fontproperties={\"size\": 13})\n",
        "    pos = ax.get_position()\n",
        "\n",
        "    # Create new axes for colorbar: same height, but narrow width\n",
        "    cbar_width = 0.02  # This controls how thin the colorbar is\n",
        "    cbar_padding = -0.02  # Space between plot and colorbar\n",
        "\n",
        "    cbar_ax = fig.add_axes([\n",
        "        pos.x1 + cbar_padding,  # x-position (right of main plot)\n",
        "        pos.y0,                 # y-position (same as main plot)\n",
        "        cbar_width,             # width (THIN!)\n",
        "        pos.height              # height (same as main plot)\n",
        "    ])\n",
        "\n",
        "    # Create the colorbar in that axis\n",
        "    cbar= fig.colorbar(im, cax=cbar_ax)\n",
        "    from datetime import datetime\n",
        "\n",
        "\n",
        "    locator = mdates.SecondLocator(interval=15)  # Shows every minute\n",
        "    formatter = mdates.DateFormatter('%M:%S')\n",
        "\n",
        "\n",
        "    ax2.xaxis.set_major_locator(locator)\n",
        "    ax2.xaxis.set_major_formatter(formatter)\n",
        "    ax2.tick_params(axis='x', rotation=45)\n",
        "    ax2.set_xlim(datetime(2022,12,19,14,4), datetime(2022,12,19,14,5,45))\n",
        "    ax2.set_xlabel(\"Time (M:S)\", color='black')\n",
        "    cbar.set_label(\"Green Pixel Intensity\", rotation=270, labelpad=12.5)\n",
        "    ax2.set_title(\"Satellite-Aligned Keogram\", color='black')\n",
        "    plt.setp(ax2.get_yticklabels(), visible=False)\n",
        "    pos = ax2.get_position()\n",
        "    ax2.set_position([pos.x0 - 0.04, pos.y0, pos.width, pos.height])\n",
        "    #pos = cbar.ax.get_position()\n",
        "    #ax2.set_position([pos.x0 - 0.02, pos.y0, pos.width, pos.height])\n",
        "\n",
        "quiverplot_V()\n",
        "quiverplot_B()\n",
        "# Right column: 3 stacked rows\n",
        "ax3 = fig.add_subplot(gs[0, 0])  # Top-right subplot\n",
        "ax4 = fig.add_subplot(gs[1, 0])  # Middle-right subplot\n",
        "ax5 = fig.add_subplot(gs[2, 0])  # Bottom-right subplot\n",
        "ax6 = fig.add_subplot(gs[3, 0], )  # Bottom-right subplot\n",
        "plt.setp(ax4.get_xticklabels(), visible=False)\n",
        "plt.setp(ax3.get_xticklabels(), visible=False)\n",
        "axes=[ax3,ax4,ax5, ax6]\n",
        "axes[0].plot(lat16, VNEC[:, 1], label=r\"$V_{E}$\")\n",
        "\n",
        "\n",
        "\n",
        "\n",
        "\n",
        "Btwin=axes[1].twinx()\n",
        "Btwin.plot(lat50,BNEC[:,0], label=r\"$B_{N}$\", color='red')\n",
        "Btwin.tick_params(axis='y', colors='red', which='both')\n",
        "axes[1].plot(lat50,BNEC[:,0], label=r\"$B_{N}$\", color='red')\n",
        "axes[1].plot(lat50, BNEC[:, 1], label=r\"$B_{E}$\")\n",
        "Btwin.plot(lat50, filtered_signal, label=r'Filter $B_{E}$ (0.1-8 Hz)', color='red', linestyle='--')\n",
        "axes[1].plot(lat50, filtered_signal, label=r'Filtered $B_{E}$ (0.1-8 Hz)', color='red', linestyle='--')\n",
        "axes[2].plot(latitudes_dense_sat, smoothed_intensity_sat, label=\"Satellite Track \")\n",
        "\n",
        "\n",
        "\n",
        "axes[0].set_title(\"In-situ Measurements of Swarm and TREx-RGB\", y=1)\n",
        "fig_data.supxlabel(\"Latitude\")\n",
        "#axes[0].legend(loc=4)\n",
        "axes[1].legend(loc=1)\n",
        "#axes[2].legend(loc=1)\n",
        "\n",
        "axes[0].set_ylabel(r\"Ion Velocities East (m/s)\")\n",
        "axes[1].set_ylabel(r\"Magnetic Field (nT)\")\n",
        "axes[2].set_ylabel(r\"Green Pixel Intensity\", labelpad=18)\n",
        "axes[2].set_xlabel(r\"Geographic Latitude\")\n",
        "import pandas as pd\n",
        "\n",
        "\n",
        "axes[0].set_xlim(62.25, 63)\n",
        "axes[1].set_xlim(62.25, 63)\n",
        "axes[2].set_xlim(62.25, 63)\n",
        "\n",
        "axes[2].set_ylim(22,50)\n",
        "axes[1].set_ylim(-420,-250)\n",
        "axes[0].set_ylim(-500, 1500)\n",
        "\n",
        "axes[3].plot(periodogram_data[0], np.sqrt(periodogram_data[1]))\n",
        "axes[3].set_yscale(\"log\")\n",
        "axes[3].set_xlim(0,8)\n",
        "axes[3].set_ylim(3e-2,3e1)\n",
        "axes[3].set_ylabel(\"Amplitude Spectra of B (nT)\", labelpad=8)\n",
        "axes[3].set_xlabel(\"Frequency (Hz)\")\n",
        "pos = axes[3].get_position()\n",
        "axes[3].set_position([pos.x0, pos.y0 -0.02, pos.width, pos.height])\n",
        "\n",
        "\n",
        "\n",
        "Btwin.set_ylim(-50,130)\n",
        "\n",
        "ax1.text(0.02, 0.99, \"e)\", transform=ax1.transAxes, fontsize=13, fontweight='bold', va='top', ha='left', color='white')\n",
        "ax2.text(0.02, 0.99, \"f)\", transform=ax2.transAxes, fontsize=13, fontweight='bold', va='top', ha='left', color='white')\n",
        "ax3.text(0.02, 0.98, \"a)\", transform=ax3.transAxes, fontsize=13, fontweight='bold', va='top', ha='left')\n",
        "ax4.text(0.02, 0.98, \"b)\", transform=ax4.transAxes, fontsize=13, fontweight='bold', va='top', ha='left')\n",
        "ax5.text(0.02, 0.98, \"c)\", transform=ax5.transAxes, fontsize=13, fontweight='bold', va='top', ha='left')\n",
        "ax6.text(0.92, 0.98, \"d)\", transform=ax6.transAxes, fontsize=13, fontweight='bold', va='top', ha='left')\n",
        "\n",
        "\n",
        "\n"
      ]
    }
  ],
  "metadata": {
    "colab": {
      "provenance": []
    },
    "kernelspec": {
      "display_name": "pymc_env",
      "language": "python",
      "name": "python3"
    },
    "language_info": {
      "codemirror_mode": {
        "name": "ipython",
        "version": 3
      },
      "file_extension": ".py",
      "mimetype": "text/x-python",
      "name": "python",
      "nbconvert_exporter": "python",
      "pygments_lexer": "ipython3",
      "version": "3.11.8"
    }
  },
  "nbformat": 4,
  "nbformat_minor": 0
}