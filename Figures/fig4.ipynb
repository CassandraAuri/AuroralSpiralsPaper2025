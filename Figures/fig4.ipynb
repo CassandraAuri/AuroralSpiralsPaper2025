{
  "cells": [
    {
      "cell_type": "markdown",
      "id": "f5291562",
      "metadata": {
        "id": "f5291562"
      },
      "source": [
        "# This notebook will explain how to prepare different data sources for use with Lompe\n",
        "\n",
        "This is how the data was prepared for the polar cap arc event on 15 December 2014 (notebook 06 in */Lompe_paper_figures/*).\n",
        "\n",
        "We start by loading relevant modules:"
      ]
    },
    {
      "cell_type": "code",
      "execution_count": null,
      "id": "7e3daa52",
      "metadata": {
        "id": "7e3daa52"
      },
      "outputs": [],
      "source": [
        "!pip install lompe viresclient\n",
        "import numpy as np\n",
        "import pandas as pd\n",
        "import datetime as dt\n",
        "import matplotlib.pyplot as plt\n",
        "from apexpy import Apex\n",
        "import lompe\n",
        "from lompe.model.cmodel import Cmodel\n",
        "from lompe.data_tools import dataloader\n",
        "from viresclient import set_token\n",
        "from scipy.signal import butter, filtfilt, freqz\n",
        "from viresclient import SwarmRequest\n",
        "import aacgmv2\n",
        "import warnings\n",
        "warnings.filterwarnings('ignore')"
      ]
    },
    {
      "cell_type": "code",
      "execution_count": null,
      "id": "f7e4c9e9",
      "metadata": {
        "id": "f7e4c9e9"
      },
      "outputs": [],
      "source": [
        "set_token(\n",
        "        \"https://vires.services/ows\",\n",
        "        set_default=True,\n",
        "        token=\"kmxv5mTTyYwzw4kQ9lsCkGfQHtjjJRVZ\",\n",
        "    )  # key"
      ]
    },
    {
      "cell_type": "markdown",
      "id": "e23f4a5d",
      "metadata": {
        "id": "e23f4a5d"
      },
      "source": [
        "We then select the event date and time we want to make Lompe data for. We specify the *'tempfile_path'* (location of processed data sets) and the *'basepath'* (loaction of 'raw' data files - the unprocessed data)."
      ]
    },
    {
      "cell_type": "code",
      "execution_count": null,
      "id": "f9998a11",
      "metadata": {
        "id": "f9998a11"
      },
      "outputs": [],
      "source": [
        "# set time interval\n",
        "event = '2022-12-19'\n",
        "hour = 14\n",
        "minute = 5\n",
        "t0 = dt.datetime(int(event[0:4]), int(event[5:7]), int(event[8:10]), hour, minute)\n",
        "print(t0)\n",
        "DT = dt.timedelta(seconds = 5 * 60) # will select data from time +/- DT\n",
        "\n",
        "# apex object for magnetic coordinates\n",
        "a = Apex(t0.year)\n",
        "\n",
        "# locations of data\n",
        "tempfile_path = './sample_dataset/' # to put the processed data\n",
        "basepath = tempfile_path + 'raw/' # unprocessed downloads"
      ]
    },
    {
      "cell_type": "markdown",
      "id": "8ad953a2",
      "metadata": {
        "id": "8ad953a2"
      },
      "source": [
        "Note that if the already processed file for the event date exists in *'tempfile_path'* it will be used and the files from *'basepath'* are unused.\n",
        "\n",
        "Then the cubed sphere grid is set up in the region we want to make a Lompe model. The region of interest should have a fairly even distribution of observations, and the grid resolution should be adjusted to fir the resolution of the observations (input data) (see Section 3.1 in the Lompe paper - [Laundal et al. 2022](https://doi.org/10.1029/2022JA030356))."
      ]
    },
    {
      "cell_type": "code",
      "execution_count": null,
      "id": "513d4fd8",
      "metadata": {
        "scrolled": true,
        "id": "513d4fd8"
      },
      "outputs": [],
      "source": [
        "position = (-114,73.454) # lon, lat\n",
        "orientation = 75 # east, north\n",
        "L, W = 4300e3, 4300e3 # dimensions of grid (L is along orientation vector)\n",
        "Lres, Wres = 100.e3, 100.e3 # resolution of grid (Lres is along orientation vector)\n",
        "grid = lompe.cs.CSgrid(lompe.cs.CSprojection(position, orientation), L, W, Lres, Wres, R = 6481.2e3)"
      ]
    },
    {
      "cell_type": "markdown",
      "id": "64bf0661",
      "metadata": {
        "id": "64bf0661"
      },
      "source": [
        "You can plot the grid if you want to. This is a grid over a small region in North America:"
      ]
    },
    {
      "cell_type": "code",
      "execution_count": null,
      "id": "dfe0d9d5",
      "metadata": {
        "id": "dfe0d9d5"
      },
      "outputs": [],
      "source": [
        "# plot grid and coastlines\n",
        "fig, ax = plt.subplots(figsize = (10, 10))\n",
        "ax.set_axis_off()\n",
        "for lon, lat in grid.get_grid_boundaries():\n",
        "    xi, eta = grid.projection.geo2cube(lon, lat)\n",
        "    ax.plot(xi, eta, color = 'grey', linewidth = .4)\n",
        "\n",
        "xlim, ylim = ax.get_xlim(), ax.get_ylim()\n",
        "for cl in grid.projection.get_projected_coastlines():\n",
        "    ax.plot(cl[0], cl[1], color = 'C0')\n",
        "\n",
        "ax.set_xlim(xlim)\n",
        "ax.set_ylim(ylim);"
      ]
    },
    {
      "cell_type": "markdown",
      "id": "2db9d5af",
      "metadata": {
        "id": "2db9d5af"
      },
      "source": [
        "### Input data\n",
        "##### DMSP SSUSI\n",
        "\n",
        "First, we look at how images of the aurora can be used with Lompe. The following example will use the SSUSI image for the Polar Cap event (notebook 06) shown in the [Lompe paper](https://doi.org/10.1029/2022JA030356) in Figure 10. The SSUSI data to be used with these scripts can be downloaded from the [SSUSI homepage](https://ssusi.jhuapl.edu/) under the EDR_Aurora data product. The downloaded data is stored in netcdf files for each orbit. They should be stored in *'basepath'*. When constructing the functions returning Hall and Pedersen conductances inside the Lompe grid using the *lompe.model.cmodel.Cmodel()* class as done in the notebook '06_polar_cap_event', a helper function contained in *lompe.data_tools.dataloader.read_ssusi()* is used to read the downloaded data and put it into an xarray format. This processed file is saved in *'tempfile_path'*. When using *Cmodel*, SSUSI images are used as input data for auroral conductances. Further details on preparing the SSUSI based conductance functions are found in the *Cmodel()* class and *dataloader.read_ssusi()* function. Solar conductances are also included in the *Cmodel()* conductance model object (EUV = True).\n",
        "\n",
        "The conductance model object can be constructed on the model grid:"
      ]
    },
    {
      "cell_type": "code",
      "execution_count": null,
      "id": "11ae33d3",
      "metadata": {
        "id": "11ae33d3"
      },
      "outputs": [],
      "source": [
        "ssies = dataloader.read_ssusi(event, 'north', basepath, tempfile_path)"
      ]
    },
    {
      "cell_type": "code",
      "execution_count": null,
      "id": "a7fb56b0",
      "metadata": {
        "id": "a7fb56b0"
      },
      "outputs": [],
      "source": [
        "from lompe.utils.conductance import hardy_EUV\n",
        "Kp = 2 # for Hardy conductance model\n",
        "SH = lambda lon = grid.lon, lat = grid.lat: hardy_EUV(lon, lat, Kp, t0, 'hall', F107=152    )\n",
        "SP = lambda lon = grid.lon, lat = grid.lat: hardy_EUV(lon, lat, Kp, t0, 'pedersen', F107=152)\n",
        "model = lompe.Emodel(grid, Hall_Pedersen_conductance = (SH, SP))\n",
        "\n"
      ]
    },
    {
      "cell_type": "markdown",
      "id": "d6c6ea32",
      "metadata": {
        "id": "d6c6ea32"
      },
      "source": [
        "##### DMSP SSIES\n",
        "\n",
        "Next, we show how ion drift meter data from the DMSP SSIES instrument can be obtained from the  [Madrigal database](http://cedar.openmadrigal.org/) and put into the Lompe format, again using tools in *lompe.data_tools.dataloader*.\n",
        "\n",
        "*lompe.data_tools.dataloader.read_ssies()* fetches SSIES data using the MadrigalWeb module ([download module here](http://cedar.openmadrigal.org/madrigalDownload) or use [pip install](https://pypi.org/project/madrigalWeb/)). User information has to be provided, but user does not have to sign up anywhere beforehand. Specify which DMSP satellite you want data from (e.g. F16, F17, F18, or F19). *'basepath'* is used for temporary storage of downloaded files. The processed file will be saved in *'tempfile_path'*. If a processed file from the event date already exists in *'tempfile_path'* it will be used. *read_ssies()* will return the path to the processed file for the event date."
      ]
    },
    {
      "cell_type": "markdown",
      "id": "5fcbf635",
      "metadata": {
        "id": "5fcbf635"
      },
      "source": [
        "The *read_ssies()* function will fecth data for the entire event date. We select data from time interval of interest. The data far away from the model grid will be automatically excluded in Lompe. Then we make the Lompe data object."
      ]
    },
    {
      "cell_type": "markdown",
      "id": "c955fd28",
      "metadata": {
        "id": "c955fd28"
      },
      "source": [
        "##### SuperDARN\n",
        "Due to its spatial coverage, a central data source to use with Lompe is SuperDARN convection measurements. Here, we show how the gridded data product produced with RST can be put into the Lompe inversion. This data product consists of merged data from all available radars in each hemisphere that has been spatially and temporally gridded. Such files can either be fetched from [Globus](https://www.globus.org/) after an invitation to join the 'SuperDARN mirror'. To get access, look here for a recipe: https://github.com/SuperDARNCanada/globus\n",
        "\n",
        "Another source of such gridded data is the gridded published dataset by E.Thomas: https://doi.org/10.5281/zenodo.3618607 (2010-2016).\n",
        "\n",
        "The gridmap file should be saved in *'basepath'*. The dataloader functions will read from there and save the processed data in *'tempfile_path'*. If a processed file from the event date already exists in *'tempfile_path'* it will be used. *read_sdarn()* will return the path to the processed file for the event date. data from the entire event date will be saved in the processed file, and we need to select data for the time interval of interest before creating the Lompe data object."
      ]
    },
    {
      "cell_type": "markdown",
      "id": "a93fd696",
      "metadata": {
        "id": "a93fd696"
      },
      "source": [
        "Note: Lompe data objects of the *'convection'* data type need the line-of-sight (LOS) parameter."
      ]
    },
    {
      "cell_type": "markdown",
      "id": "35c6d3dd",
      "metadata": {
        "id": "35c6d3dd"
      },
      "source": [
        "##### SuperMAG\n",
        "Next is SuperMAG ground magnetometer data. The following function will read a netcdf file of all stations on the given day, downloaded from the [SuperMAG webpage](https://supermag.jhuapl.edu/). These files should be located in *'basepath'*. Note that the manual SuperMAG download has the download date as default filename, and if a local file is to be used the name of the file must be specified."
      ]
    },
    {
      "cell_type": "code",
      "execution_count": null,
      "id": "30a1adf0",
      "metadata": {
        "id": "30a1adf0"
      },
      "outputs": [],
      "source": [
        "file_name = 'all_stations_all2022.netcdf'\n",
        "supermag = pd.read_hdf(dataloader.read_smag(event, basepath, tempfile_path, file_name))"
      ]
    },
    {
      "cell_type": "markdown",
      "id": "8a3ec891",
      "metadata": {
        "id": "8a3ec891"
      },
      "source": [
        "Like the other read-functions, *read_smag()* creates a processed file for all available stations on the entire event date. You can remove stations with a latitude cutoff if you want to, however, data far from the model grid will automatically be removed in Lompe anyways. We must select the time interval of interest before we make the Lompe data object:"
      ]
    },
    {
      "cell_type": "code",
      "execution_count": null,
      "id": "f1838986",
      "metadata": {
        "id": "f1838986"
      },
      "outputs": [],
      "source": [
        "# latitude cutoff of magnetometers\n",
        "\n",
        "# select the time interval of interest\n",
        "sm = supermag[t0 - DT : t0 + DT].dropna()\n",
        "\n",
        "# make the Lompe data object\n",
        "B = np.vstack((sm.Be.values, sm.Bn.values, sm.Bu.values))\n",
        "coords = np.vstack((sm.lon.values, sm.lat.values))\n",
        "# lompe.Data is the Lompe data format\n",
        "#sm_data = lompe.Data(B * 1e-9, coords, datatype = 'ground_mag', scale = 100e-9)\n",
        "\n",
        "sm_data = lompe.Data(B * 1e-9, coords, datatype = 'ground_mag', error = 10e-9, iweight = 1)"
      ]
    },
    {
      "cell_type": "code",
      "execution_count": null,
      "id": "8419d92d",
      "metadata": {
        "id": "8419d92d"
      },
      "outputs": [],
      "source": [
        "def butter_bandpass(cutoffs, fs, order=4):\n",
        "    if cutoffs[0] ==0:\n",
        "        return butter(order, cutoffs[1], fs=fs, btype=\"low\")\n",
        "    else:\n",
        "        return butter(order, cutoffs, fs=fs, btype=\"band\")\n",
        "\n",
        "\n",
        "def butter_bandpass_filter(data, cutoffs, fs, order=4):\n",
        "    b, a = butter_bandpass(cutoffs, fs, order=order)\n",
        "    y = filtfilt(b, a, data)\n",
        "    return y"
      ]
    },
    {
      "cell_type": "code",
      "execution_count": null,
      "id": "a8d30159",
      "metadata": {
        "id": "a8d30159"
      },
      "outputs": [],
      "source": [
        "def requester(sc_collection, measurement, residual, sampling_step=None, **kwargs):\n",
        "        try:\n",
        "            request = SwarmRequest()\n",
        "            request.set_collection(sc_collection)\n",
        "            if residual == True:\n",
        "                request.set_products(\n",
        "                    measurements=measurement,\n",
        "                    models=[\"CHAOS\"],\n",
        "                    residuals=True,\n",
        "                    sampling_step=sampling_step,\n",
        "                )\n",
        "            else:\n",
        "                request.set_products(\n",
        "                    measurements=measurement,\n",
        "                    models=[\"CHAOS\"],\n",
        "                    sampling_step=sampling_step,\n",
        "                )\n",
        "            data = request.get_between((t0 - DT),(t0 + DT), **kwargs)\n",
        "            df = data.as_dataframe()\n",
        "        except:\n",
        "            df = []\n",
        "        return df"
      ]
    },
    {
      "cell_type": "code",
      "execution_count": null,
      "id": "edac8a3d",
      "metadata": {
        "id": "edac8a3d"
      },
      "outputs": [],
      "source": [
        "def arrangement(time, array, shape):  # arranges B into a useable format for use later\n",
        "    barranged = np.zeros((len(time), shape))\n",
        "    # Re-arranges into proper (n x 3 ) matricies, ugly but works\n",
        "    for j in range(len(time)):\n",
        "        for k in range(shape):\n",
        "            barranged[j][k] = array[j][k]\n",
        "    return barranged"
      ]
    },
    {
      "cell_type": "code",
      "execution_count": null,
      "id": "94ae05fb",
      "metadata": {
        "id": "94ae05fb"
      },
      "outputs": [],
      "source": []
    },
    {
      "cell_type": "markdown",
      "id": "9bb5cb07",
      "metadata": {
        "id": "9bb5cb07"
      },
      "source": [
        "The Lompe Data objects of the 'ground_mag' data type do not have line-of-sight (LOS) parameters. The magnetic field measurements (here called *B*) has the (east, north, up) components integrated."
      ]
    },
    {
      "cell_type": "markdown",
      "id": "91b3db41",
      "metadata": {
        "id": "91b3db41"
      },
      "source": [
        "Lets do swarm now"
      ]
    },
    {
      "cell_type": "code",
      "execution_count": null,
      "id": "71dd616b",
      "metadata": {
        "id": "71dd616b"
      },
      "outputs": [],
      "source": [
        "collectionE_02 = [\n",
        "\"SW_EXPT_EFIA_TCT02\",\n",
        "\"SW_EXPT_EFIB_TCT02\",\n",
        "\"SW_EXPT_EFIC_TCT02\",\n",
        "]"
      ]
    },
    {
      "cell_type": "code",
      "execution_count": null,
      "id": "99941b14",
      "metadata": {
        "id": "99941b14"
      },
      "outputs": [],
      "source": [
        "from datetime import datetime, timedelta\n",
        "from scipy.optimize import curve_fit\n",
        "import geopack.geopack as gp\n",
        "def footprint(time, latitude, longitude, altitude, alt,vsw= [-400,0,0]):\n",
        "    \"\"\"\n",
        "    time, datetime, time for magnetic data for footprint\n",
        "    vsw velocity of solar wind, tuple of x,y,z\n",
        "    longitude of satellite in degrees\n",
        "    latitude of satellite in degrees\n",
        "    altitude of satellite in km from centre of earth (should be above ~6371)\n",
        "    THIS CODE ONLY Works in the NOrthern hemisphere\n",
        "\n",
        "    \"\"\"\n",
        "    def cubic(t, a, b, c, d):\n",
        "            return a*t**3 + b*t**2 + c*t + d\n",
        "    def x(t, params_x):\n",
        "        return cubic(t, *params_x)\n",
        "\n",
        "    def y(t, params_y):\n",
        "        return cubic(t, *params_y)\n",
        "\n",
        "    def z(t, params_z):\n",
        "        return cubic(t, *params_z)\n",
        "    def radius(t, params_x, params_y, params_z):\n",
        "        return np.sqrt(x(t, params_x)**2 + y(t, params_y)**2 + z(t, params_z)**2)\n",
        "\n",
        "    def curve_fit_func(xx,yy,zz, differencealt):\n",
        "\n",
        "        r = np.linspace(1, 1.5, 100000)# construct an array of radiuses from 1-1.5\n",
        "\n",
        "        radius_data=np.sqrt(xx**2+yy**2+zz**2)\n",
        "\n",
        "        params_x, _ = curve_fit(cubic, radius_data, xx) #Constructs fits on the traces inward since the spatial resolution produced by geopack is limited.\n",
        "        params_y, _ = curve_fit(cubic, radius_data, yy)\n",
        "        params_z, _ = curve_fit(cubic, radius_data, zz)\n",
        "\n",
        "\n",
        "\n",
        "        index_closest=np.argmin(np.abs(radius(r, params_x, params_y, params_z)-(alt-differencealt+6371)/6371))#Find the index that produces the closest radius to the altitude\n",
        "\n",
        "        return x(r[index_closest],params_x ),y(r[index_closest],params_y ),z(r[index_closest],params_z )\n",
        "\n",
        "    t1 = time\n",
        "    t0 = datetime(1970,1,1) #epoch\n",
        "    ut = (t1-t0).total_seconds()\n",
        "    lat_sat=np.deg2rad(latitude)\n",
        "    lon_sat=np.deg2rad(longitude) #converts to radii\n",
        "    gp.recalc(ut)\n",
        "    r, theta= gp.geodgeo(altitude,lat_sat,1) #this r accounts for earths oblateness, so we need to find the difference between my 6371 assumption and the real value and account for that\n",
        "    differencearray= (altitude+6371)-r\n",
        "    x_gc,y_gc,z_gc = gp.sphcar((r)/6371,theta,lon_sat,1)  #spherical to cartesian\n",
        "\n",
        "\n",
        "    x_gsm, y_gsm, z_gsm = gp.geogsm(x_gc,y_gc,z_gc, 1) #cartesian to gsm\n",
        "\n",
        "    x_foot,y_foot,z_foot=np.zeros(len(x_gsm)), np.zeros(len(y_gsm)), np.zeros(len(z_gsm)) #initalize an array\n",
        "    for index in range(len(x_gsm)):\n",
        "        x_foot_int, y_foot_int, z_foot_int, xx, _,zz = gp.trace(x_gsm[index], y_gsm[index], z_gsm[index], dir=1,rlim=1.6, maxloop=3000 ) #traces each set of lat,lon,alt outward\n",
        "\n",
        "        _, _, _, xx2,yy2,zz2 = gp.trace(x_foot_int, y_foot_int, z_foot_int, dir=-1,rlim=100, maxloop=1000 )#Traces inward\n",
        "\n",
        "        x_foot[index],y_foot[index],z_foot[index] = curve_fit_func(xx2,yy2,zz2, differencearray[index])\n",
        "\n",
        "\n",
        "\n",
        "\n",
        "\n",
        "\n",
        "    x_done, y_done, z_done = gp.geogsm(x_foot, y_foot, z_foot, -1)\n",
        "\n",
        "    alt_sat_done, lat_sat_done,lon_sat_done = np.zeros(len(x_done)), np.zeros(len(x_done)), np.zeros(len(x_done))\n",
        "    for index in range(len(x_done)):\n",
        "\n",
        "        r_done,theta_done,lon_sat_done[index]= gp.sphcar(x_done[index], y_done[index], z_done[index],-1)\n",
        "\n",
        "        alt_sat_done[index], lat_sat_done[index]= gp.geodgeo(r_done*6371,theta_done,-1) #TODO check if this is right\n",
        "\n",
        "\n",
        "\n",
        "    if np.any(np.abs(alt_sat_done - alt) > 5):\n",
        "        raise Exception(\"One or more values in the footprinting are greater than 5km away from the specified alt. Contact owner for a fix, not your fault\")\n",
        "\n",
        "    sat_lla=np.array([ np.rad2deg(lon_sat_done)-360,np.rad2deg(lat_sat_done), alt_sat_done])\n",
        "    return sat_lla"
      ]
    },
    {
      "cell_type": "markdown",
      "id": "4a6da31e",
      "metadata": {
        "id": "4a6da31e"
      },
      "source": []
    },
    {
      "cell_type": "code",
      "execution_count": null,
      "id": "15387ca0",
      "metadata": {
        "id": "15387ca0"
      },
      "outputs": [],
      "source": [
        "collectionB_01 = [\"SW_OPER_MAGA_LR_1B\", \"SW_OPER_MAGB_LR_1B\", \"SW_OPER_MAGC_LR_1B\"]\n",
        "swarmmags=[]\n",
        "alt=150\n",
        "BUsed_swarmb=[]\n",
        "coords_swarmb=[]\n",
        "for i in range(3):\n",
        "    dsB = requester(\n",
        "        collectionB_01[i],\n",
        "        \"B_NEC\",\n",
        "        True,\n",
        "        asynchronous=False,\n",
        "        show_progress=False,\n",
        "    )\n",
        "\n",
        "\n",
        "    Bdata = dsB[\"B_NEC_res_CHAOS\"]  # data package\n",
        "    time = Bdata.index.to_numpy()\n",
        "    Bdata = Bdata.to_numpy()\n",
        "\n",
        "    barranged = arrangement(time, Bdata, 3)\n",
        "\n",
        "\n",
        "    coords= footprint( t0,dsB['Latitude'].to_numpy(), dsB['Longitude'].to_numpy(), (dsB[\"Radius\"].to_numpy()-6.371e6)/1e3, alt)\n",
        "    coords[2] = dsB[\"Radius\"].to_numpy() #After talking to Karl, keep altitude but change lat and lon appropriately\n",
        "\n",
        "    Bused=np.array([ barranged[:,1],barranged[:,0], -1*barranged[:,2]])\n",
        "    plt.plot(coords[1], Bused[0], label='unfilt')\n",
        "    bfilter = np.zeros(np.shape(Bused))\n",
        "\n",
        "    plt.plot(coords[1], Bused[0], label='filt')\n",
        "    if i==1:\n",
        "        BUsed_swarmb.append(Bused)\n",
        "        coords_swarmb.append(coords)\n",
        "\n",
        "    swarmmags.append(lompe.Data(Bused*1e-9,coords, datatype='space_mag_full', error=5e-9,iweight=1.0))\n",
        "\n",
        "plt.legend()"
      ]
    },
    {
      "cell_type": "markdown",
      "id": "060046e6",
      "metadata": {
        "id": "060046e6"
      },
      "source": [
        "##### Iridium\n",
        "\n",
        "Data handling of *Iridium* space magnetometer data (provided by [AMPERE](http://ampere.jhuapl.edu/)) is also possible by using *dataloader.read_iridium()*. The raw data for the event date - AMPERE dB (Raw Vectors) - with a 2 minute time step  be downloaded from [this page](http://ampere.jhuapl.edu/dataraw/index.html) and should be saved in *'basepath'*. *read_iridium()* will save the processed file in *'tempfile_path'* and return the loaction of the file. As for the other data sets, we must select the time interval of interest before we make the Lompe data object.\n",
        "\n",
        "Unfortunately, space magnetometer data from AMPERE is not available for the 15 December 2014 event. For the sake of making the data loading example complete, we will use an example event time 5 April 2012 which is a date where we have data. This data will naturally not be included in the 15 December 2014 model."
      ]
    },
    {
      "cell_type": "code",
      "execution_count": null,
      "id": "fe08b5e8",
      "metadata": {
        "id": "fe08b5e8"
      },
      "outputs": [],
      "source": [
        "\n",
        "example_event = '2022-12-19'\n",
        "# get the processed data set\n",
        "iridium = pd.read_hdf(dataloader.read_iridium(example_event, basepath, tempfile_path))\n",
        "\n",
        "# select the time interval of interest\n",
        "irid = iridium[(iridium.time >= t0) & (iridium.time <= t0 + DT)]\n",
        "\n",
        "# make the Lompe data object\n",
        "irid_B = np.vstack((irid.B_e.values, irid.B_n.values, irid.B_r.values))\n",
        "irid_coords = np.vstack((irid.lon.values, irid.lat.values, irid.r.values))\n",
        "# lompe.Data is the Lompe data format\n",
        "#iridium_data = lompe.Data(irid_B * 1e-9, irid_coords, datatype = 'space_mag_fac', scale = 200e-9)\n",
        "\n",
        "iridium_data = lompe.Data(irid_B * 1e-9, irid_coords, datatype = 'space_mag_fac', error = 70e-9, iweight=1)"
      ]
    },
    {
      "cell_type": "markdown",
      "id": "543e7354",
      "metadata": {
        "id": "543e7354"
      },
      "source": [
        "##### Data type for Lompe\n",
        "When making the Lompe data objects, the 'datatype' parameter must be specified. The options are:\n",
        "\n",
        "- **'ground_mag'**: Magnetic field perturbations on ground (given in Tesla). This is what was used for the SuperMAG observations.\n",
        "\n",
        "- **'space_mag_full'**: Magnetic field perturbations in space associated with field-aligned currents **and** horizontal divergence-free currents below the satellite (in Tesla). Typically used for low-flying precise magnetometers (e.g. Swarm and CHAMP).\n",
        "\n",
        "- **'space_mag_fac'**: Magnetic field perturbations in space associated with field-aligned currents (in Tesla). Magnetic field in space that corresponds to only the field-aligned currents. For example, Iridium magnetic data is dominated by FACs, since it is taken at around 800 km altitude, and by magnetometers that do not have the precision of science-mission instruments.\n",
        "\n",
        "- **'convection'**: Ionospheric convection velocity perpendicular to the magnetic field, mapped to the ionospheric radius (in meters per second). The line-of-sight direction must be specified using the LOS keyword (that should contain the eastward and northward components of the line-of-sight vector). This is the data type for both the ground-based SuperDARN observations and the space-based observations from DMSP SSIES.\n",
        "\n",
        "- **'Efield'**: Ionospheric convection electric field, perpendicular to B and mapped to the ionospheric radius (in Volts per meter). The LOS keyword can be used for this parameter also, if only one component of the electric field is known.\n",
        "\n",
        "- **'fac'**: Field-aligned electric current density (in Ampere per meter$^2$). This parameter is only meant to be used with large-scale datasets or simulation output that can be interpolated to the Lompe model grid. This is different from all the other datatypes used in Lompe.\n",
        "\n",
        "##### 'scale' parameter for the Lompe data object (DEPRECATED)\n",
        "The scale keyword determines a weight for the dataset. It should be set to a typical order of magnitude for the measurement. For example, magnetometer data have typical magnitude $10^{-7}$ T, and plasma flow data typically $100$ m/s. The scale parameter determines the relative importance of the dataset in the model-data misfit minimization. Increasing it will reduce importance of the data set. If you only have one dataset, the scale parameter should be irrelevant. The scale parameter is described in Section 3.3 in the [Lompe paper](https://doi.org/10.1029/2022JA030356) ($\\sigma_B$, $\\sigma_E$ etc.)\n",
        "\n",
        "##### 'iweight' and 'error' parameters for the Lompe data object\n",
        "As of June 2023, the 'iweight' (importance weight) and 'error' keywords should be used instead of the 'scale' keyword. `error` should be set to some reasonable estimate of the uncertainty of the measurements (all measurements have uncertainty!). `iweight` is subjective and is determined by the user; see the documentation in lompe.model.data."
      ]
    },
    {
      "cell_type": "markdown",
      "id": "9fafd156",
      "metadata": {
        "id": "9fafd156"
      },
      "source": [
        "### Final electric field model\n",
        "Now the data can be added to Lompe and the inversion can be performed. Note that the Lompe electric field model is given Hall and Pedersen conductances from the conductance model when initialized."
      ]
    },
    {
      "cell_type": "code",
      "execution_count": null,
      "id": "983f21c8",
      "metadata": {
        "id": "983f21c8"
      },
      "outputs": [],
      "source": [
        "# initialize Lompe\n",
        "model = lompe.Emodel(grid, Hall_Pedersen_conductance = (SH, SP))\n",
        "\n",
        "# add data\n",
        "#model.add_data(iridium_data)\n",
        "model.add_data(sm_data)\n",
        "#model.add_data(swarmmags[0],swarmmags[1], swarmmags[2] , )\n",
        "\n",
        "# run inversion\n",
        "model.run_inversion(l1 = 1, l2 = 10)\n",
        "# l1 and l2 are regularization parameters that control the damping of\n",
        "# 1) model norm, and 2) gradient of SECS amplitudes (charges) in magnetic eastward direction"
      ]
    },
    {
      "cell_type": "markdown",
      "id": "0ee64149",
      "metadata": {
        "id": "0ee64149"
      },
      "source": [
        "Note that multiple Lompe Data objects of the same data type can be passed to the Lompe model once it's initialized.\n",
        "\n",
        "You can use *lompeplot* to get a summary figure with the model output. When 'include_data = True', the location of input data is shown as orange arrows. This is a similar figure to the one created in notebook 06 with slightly different data input (no DMSP F18 input and including SuperMAG observations)."
      ]
    },
    {
      "cell_type": "code",
      "execution_count": null,
      "id": "d93be43f",
      "metadata": {
        "scrolled": true,
        "id": "d93be43f"
      },
      "outputs": [],
      "source": [
        "fig = lompe.lompeplot(model, include_data = True, time = t0, apex = a,\n",
        "                      colorscales = {'fac'        : np.linspace(-0.55, 0.55, 40) * 1e-6 * 2,\n",
        "                                     'ground_mag' : np.linspace(-380, 380, 50) * 1e-9 / 3, # upward component\n",
        "                                     'hall'       : np.linspace(0, 6, 32), # mho\n",
        "                                     'pedersen'   : np.linspace(0, 6, 32)}, # mho\n",
        "                      quiverscales={'ground_mag'      : 1000*1e-9,\n",
        "                                    'space_mag_fac'   : 1000*1e-9,\n",
        "                                    'space_mag_full'  : 1000*1e-9,\n",
        "                                    'electric_current': 1000 * 1e-3}, return_axes=True)\n",
        "\n",
        "fig[1][1][0].cla()\n",
        "fig[1][1][0].scatter(-114,65, s=100)"
      ]
    },
    {
      "cell_type": "code",
      "execution_count": null,
      "id": "ccc8e162",
      "metadata": {
        "id": "ccc8e162"
      },
      "outputs": [],
      "source": [
        "# initialize Lompe\n",
        "model = lompe.Emodel(grid, Hall_Pedersen_conductance = (SH, SP))\n",
        "\n",
        "# add data\n",
        "model.add_data(iridium_data)\n",
        "model.add_data(sm_data)\n",
        "#model.add_data(swarmmags[0],swarmmags[1], swarmmags[2] , )\n",
        "\n",
        "# run inversion\n",
        "model.run_inversion(l1 = 1, l2 = 10)\n",
        "# l1 and l2 are regularization parameters that control the damping of\n",
        "# 1) model norm, and 2) gradient of SECS amplitudes (charges) in magnetic eastward direction"
      ]
    },
    {
      "cell_type": "code",
      "execution_count": null,
      "id": "9ad8a15e",
      "metadata": {
        "id": "9ad8a15e"
      },
      "outputs": [],
      "source": [
        "fig = lompe.lompeplot(model, include_data = True, time = t0, apex = a,\n",
        "                      colorscales = {'fac'        : np.linspace(-0.55, 0.55, 40) * 1e-6 * 2,\n",
        "                                     'ground_mag' : np.linspace(-380, 380, 50) * 1e-9 / 3, # upward component\n",
        "                                     'hall'       : np.linspace(0, 6, 32), # mho\n",
        "                                     'pedersen'   : np.linspace(0, 6, 32)}, # mho\n",
        "                      quiverscales={'ground_mag'      : 1000*1e-9,\n",
        "                                    'space_mag_fac'   : 1000*1e-9,\n",
        "                                    'space_mag_full'  : 1000*1e-9,\n",
        "                                    'electric_current': 1000 * 1e-3}, return_axes=True)\n"
      ]
    },
    {
      "cell_type": "code",
      "execution_count": null,
      "id": "b665ae67",
      "metadata": {
        "id": "b665ae67"
      },
      "outputs": [],
      "source": [
        "# initialize Lompe\n",
        "model = lompe.Emodel(grid, Hall_Pedersen_conductance = (SH, SP))\n",
        "\n",
        "# add data\n",
        "#model.add_data(iridium_data)\n",
        "#model.add_data(sm_data)\n",
        "model.add_data(swarmmags[1])\n",
        "\n",
        "# run inversion\n",
        "model.run_inversion(l1 = 1, l2 = 10)\n",
        "# l1 and l2 are regularization parameters that control the damping of\n",
        "# 1) model norm, and 2) gradient of SECS amplitudes (charges) in magnetic eastward direction"
      ]
    },
    {
      "cell_type": "code",
      "execution_count": null,
      "id": "fc68e81c",
      "metadata": {
        "id": "fc68e81c"
      },
      "outputs": [],
      "source": [
        "fig = lompe.lompeplot(model, include_data = True, time = t0, apex = a,\n",
        "                      colorscales = {'fac'        : np.linspace(-0.55, 0.55, 40) * 1e-6 * 2,\n",
        "                                     'ground_mag' : np.linspace(-380, 380, 50) * 1e-9 / 3, # upward component\n",
        "                                     'hall'       : np.linspace(0, 6, 32), # mho\n",
        "                                     'pedersen'   : np.linspace(0, 6, 32)}, # mho\n",
        "                      quiverscales={'ground_mag'      : 1000*1e-9,\n",
        "                                    'space_mag_fac'   : 1000*1e-9,\n",
        "                                    'space_mag_full'  : 1000*1e-9,\n",
        "                                    'electric_current': 1000 * 1e-3}, return_axes=True)\n"
      ]
    },
    {
      "cell_type": "code",
      "execution_count": null,
      "id": "5dbe9046",
      "metadata": {
        "id": "5dbe9046"
      },
      "outputs": [],
      "source": [
        "fig, ax = plt.subplots( dpi=300)\n",
        "lompe.visualization.plot_quiver(  ax, model, 'space_mag_fac')\n",
        "lompe.visualization.plot_contour( ax, model, 'fac')\n",
        "\n",
        "\n",
        "lompe.visualization.plot_datasets(ax, model, 'space_mag_fac')\n",
        "lompe.visualization.plot_datasets(ax, model, 'space_mag_full')\n",
        "ax.set_title('FAC and magnetic field')\n",
        "\n",
        "\n",
        "lon = np.linspace(-123, -105, 200)\n",
        "lat= np.linspace(62.3, 62.45, 200)\n",
        "\n",
        "\n",
        "\n",
        "x, y= model.grid_J.projection.geo2cube(lon, lat)\n",
        "scat = ax.plot(x, y, color='purple', label='Location of Arc Based on Ewogram')\n",
        "x, y= model.grid_J.projection.geo2cube( -114.3718, 62.4540)\n",
        "lon = np.linspace(-123, -105, 200)\n",
        "lat= np.linspace(62.5, 63.6, 200)\n",
        "\n",
        "\n",
        "x, y= model.grid_J.projection.geo2cube(lon, lat)\n",
        "scat = ax.plot(x, y, color='purple')\n",
        "\n",
        "\n",
        "plt.legend()"
      ]
    },
    {
      "cell_type": "code",
      "execution_count": null,
      "id": "2d3dc083",
      "metadata": {
        "id": "2d3dc083"
      },
      "outputs": [],
      "source": [
        "fig, ax = plt.subplots( dpi=300)\n",
        "lompe.visualization.plot_quiver(  ax, model, 'space_mag_fac')\n",
        "lompe.visualization.plot_contour( ax, model, 'fac')\n",
        "\n",
        "\n",
        "lompe.visualization.plot_datasets(ax, model, 'space_mag_fac')\n",
        "lompe.visualization.plot_datasets(ax, model, 'space_mag_full')\n",
        "ax.set_title('FAC and magnetic field')\n",
        "\n",
        "\n",
        "lon = np.linspace(-123, -105, 200)\n",
        "lat= np.linspace(62.3, 62.45, 200)\n",
        "\n",
        "\n",
        "\n",
        "x, y= model.grid_J.projection.geo2cube(lon, lat)\n",
        "scat = ax.plot(x, y, color='purple', label='Location of Arc Based on Ewogram')\n",
        "x, y= model.grid_J.projection.geo2cube( -114.3718, 62.4540)\n",
        "lon = np.linspace(-123, -105, 200)\n",
        "lat= np.linspace(62.5, 63.6, 200)\n",
        "\n",
        "\n",
        "x, y= model.grid_J.projection.geo2cube(lon, lat)\n",
        "scat = ax.plot(x, y, color='purple')\n",
        "\n",
        "plt.xlim(-0.4,-0.1)\n",
        "plt.ylim(0,0.4)\n",
        "\n",
        "plt.legend()"
      ]
    },
    {
      "cell_type": "code",
      "execution_count": null,
      "id": "f95d616a",
      "metadata": {
        "id": "f95d616a"
      },
      "outputs": [],
      "source": [
        "# initialize Lompe\n",
        "model = lompe.Emodel(grid, Hall_Pedersen_conductance = (SH, SP))\n",
        "\n",
        "# add data\n",
        "model.add_data(iridium_data)\n",
        "model.add_data(sm_data)\n",
        "model.add_data(swarmmags[0],swarmmags[1], swarmmags[2] , )\n",
        "\n",
        "# run inversion\n",
        "model.run_inversion(l1 = 1, l2 = 10)\n",
        "# l1 and l2 are regularization parameters that control the damping of\n",
        "# 1) model norm, and 2) gradient of SECS amplitudes (charges) in magnetic eastward direction"
      ]
    },
    {
      "cell_type": "code",
      "execution_count": null,
      "id": "83d66787",
      "metadata": {
        "id": "83d66787"
      },
      "outputs": [],
      "source": [
        "fig = lompe.lompeplot(model, include_data = True, time = t0, apex = a,\n",
        "                      colorscales = {'fac'        : np.linspace(-0.55, 0.55, 40) * 1e-6 * 2,\n",
        "                                     'ground_mag' : np.linspace(-380, 380, 50) * 1e-9 / 3, # upward component\n",
        "                                     'hall'       : np.linspace(0, 6, 32), # mho\n",
        "                                     'pedersen'   : np.linspace(0, 6, 32)}, # mho\n",
        "                      quiverscales={'ground_mag'      : 1000*1e-9,\n",
        "                                    'space_mag_fac'   : 1000*1e-9,\n",
        "                                    'space_mag_full'  : 1000*1e-9,\n",
        "                                    'electric_current': 1000 * 1e-3}, return_axes=True)\n"
      ]
    },
    {
      "cell_type": "code",
      "execution_count": null,
      "id": "cbfeaa9e",
      "metadata": {
        "id": "cbfeaa9e"
      },
      "outputs": [],
      "source": [
        "# initialize Lompe\n",
        "model = lompe.Emodel(grid, Hall_Pedersen_conductance = (SH, SP))\n",
        "\n",
        "# add data\n",
        "model.add_data(iridium_data)\n",
        "model.add_data(sm_data)\n",
        "model.add_data(swarmmags[0],swarmmags[1], swarmmags[2] , )\n",
        "\n",
        "\n",
        "# run inversion\n",
        "model.run_inversion(l1 = 1, l2 = 10)\n",
        "# l1 and l2 are regularization parameters that control the damping of\n",
        "# 1) model norm, and 2) gradient of SECS amplitudes (charges) in magnetic eastward direction"
      ]
    },
    {
      "cell_type": "code",
      "execution_count": null,
      "id": "8c306600",
      "metadata": {
        "id": "8c306600"
      },
      "outputs": [],
      "source": [
        "fig = lompe.lompeplot(model, include_data = True, time = t0, apex = a,\n",
        "                      colorscales = {'fac'        : np.linspace(-0.55, 0.55, 40) * 1e-6 * 2,\n",
        "                                     'ground_mag' : np.linspace(-380, 380, 50) * 1e-9 / 3, # upward component\n",
        "                                     'hall'       : np.linspace(0, 6, 32), # mho\n",
        "                                     'pedersen'   : np.linspace(0, 6, 32)}, # mho\n",
        "                      quiverscales={'ground_mag'      : 1000*1e-9,\n",
        "                                    'space_mag_fac'   : 1000*1e-9,\n",
        "                                    'space_mag_full'  : 2000*1e-9,\n",
        "                                    'electric_current': 1000 * 1e-3}, return_axes=True)\n"
      ]
    },
    {
      "cell_type": "code",
      "execution_count": null,
      "id": "6835035a",
      "metadata": {
        "id": "6835035a"
      },
      "outputs": [],
      "source": [
        "\n",
        "dataloader.read_sdarn(event, basepath, tempfile_path)\n",
        "superdarn = pd.read_hdf(dataloader.read_sdarn(event, basepath, tempfile_path))\n",
        "\n",
        "# select the time interval of interest (also remove very high speeds)\n",
        "sd = superdarn.loc[(superdarn.index >= t0 - DT) & (superdarn.index <= t0 + DT) & (superdarn.vlos < 2000)].dropna()\n",
        "\n",
        "# make the Lompe data object\n",
        "vlos = sd['vlos'].values\n",
        "coords = np.vstack((sd['glon'].values, sd['glat'].values))\n",
        "los  = np.vstack((sd['le'].values, sd['ln'].values))\n",
        "# lompe.Data is the Lompe data format\n",
        "#sd_data = lompe.Data(vlos, coordinates = coords, LOS = los, datatype = 'convection', scale = 500 )\n",
        "\n",
        "sd_data = lompe.Data(vlos, coordinates = coords, LOS = los, datatype = 'convection', error = 50, iweight=1 )"
      ]
    },
    {
      "cell_type": "code",
      "execution_count": null,
      "id": "9a7f331f",
      "metadata": {
        "id": "9a7f331f"
      },
      "outputs": [],
      "source": [
        "# initialize Lompe\n",
        "model = lompe.Emodel(grid, Hall_Pedersen_conductance = (SH, SP))\n",
        "\n",
        "# add data\n",
        "#model.add_data(iridium_data)\n",
        "#model.add_data(sm_data)\n",
        "#model.add_data(swarmmags[0],swarmmags[1], swarmmags[2] , )\n",
        "\n",
        "model.add_data(sd_data)\n",
        "\n",
        "\n",
        "# run inversion\n",
        "model.run_inversion(l1 = 1, l2 = 10)\n",
        "# l1 and l2 are regularization parameters that control the damping of\n",
        "# 1) model norm, and 2) gradient of SECS amplitudes (charges) in magnetic eastward direction"
      ]
    },
    {
      "cell_type": "code",
      "execution_count": null,
      "id": "74a6a6c7",
      "metadata": {
        "id": "74a6a6c7"
      },
      "outputs": [],
      "source": [
        "fig = lompe.lompeplot(model, include_data = True, time = t0, apex = a,\n",
        "                      colorscales = {'fac'        : np.linspace(-0.55, 0.55, 40) * 1e-6 * 2,\n",
        "                                     'ground_mag' : np.linspace(-380, 380, 50) * 1e-9 / 3, # upward component\n",
        "                                     'hall'       : np.linspace(0, 6, 32), # mho\n",
        "                                     'pedersen'   : np.linspace(0, 6, 32)}, # mho\n",
        "                      quiverscales={'ground_mag'      : 1000*1e-9,\n",
        "                                    'space_mag_fac'   : 2000*1e-9,\n",
        "                                    'space_mag_full'  : 2000*1e-9,\n",
        "                                    'electric_current': 1000 * 1e-3}, return_axes=True)\n"
      ]
    },
    {
      "cell_type": "code",
      "execution_count": null,
      "id": "677aad23",
      "metadata": {
        "id": "677aad23"
      },
      "outputs": [],
      "source": [
        "# initialize Lompe\n",
        "model = lompe.Emodel(grid, Hall_Pedersen_conductance = (SH, SP))\n",
        "\n",
        "# add data\n",
        "model.add_data(iridium_data)\n",
        "model.add_data(sm_data)\n",
        "model.add_data(swarmmags[0],swarmmags[1], swarmmags[2] , )\n",
        "\n",
        "\n",
        "# run inversion\n",
        "model.run_inversion(l1 = 1, l2 = 10)\n",
        "# l1 and l2 are regularization parameters that control the damping of\n",
        "# 1) model norm, and 2) gradient of SECS amplitudes (charges) in magnetic eastward direction"
      ]
    },
    {
      "cell_type": "code",
      "execution_count": null,
      "id": "c6bce76d",
      "metadata": {
        "id": "c6bce76d"
      },
      "outputs": [],
      "source": [
        "fig = lompe.lompeplot(model, include_data = True, time = t0, apex = a,\n",
        "                      colorscales = {'fac'        : np.linspace(-0.55, 0.55, 40) * 1e-6 * 2,\n",
        "                                     'ground_mag' : np.linspace(-380, 380, 50) * 1e-9 / 3, # upward component\n",
        "                                     'hall'       : np.linspace(0, 6, 32), # mho\n",
        "                                     'pedersen'   : np.linspace(0, 6, 32)}, # mho\n",
        "                      quiverscales={'ground_mag'      : 1000*1e-9,\n",
        "                                    'space_mag_fac'   : 2000*1e-9,\n",
        "                                    'space_mag_full'  : 500*1e-9,\n",
        "                                    'electric_current': 1000 * 1e-3}, return_axes=True)\n"
      ]
    },
    {
      "cell_type": "code",
      "execution_count": null,
      "id": "9040cdf4",
      "metadata": {
        "id": "9040cdf4"
      },
      "outputs": [],
      "source": [
        "def unit_array(array):\n",
        "    arraysum = np.sum(np.abs(array), axis=1)\n",
        "    # Normalizes and finds unitary\n",
        "    array_unit = array / arraysum[:, np.newaxis]  # normalizes\n",
        "    return array_unit"
      ]
    },
    {
      "cell_type": "code",
      "execution_count": null,
      "id": "7d5575d3",
      "metadata": {
        "id": "7d5575d3"
      },
      "outputs": [],
      "source": [
        "\n",
        "def find_closest_indices(times1, times2):\n",
        "    # Convert to numpy arrays\n",
        "    times1 = np.array(times1)\n",
        "    times2 = np.array(times2)\n",
        "\n",
        "    # Compute the differences between each time in times1 and all times in times2\n",
        "    # Resulting in a 2D array where each row contains the absolute differences for one time in times1\n",
        "    differences = np.abs(times1[:, None] - times2)\n",
        "\n",
        "    # Find the index of the minimum difference for each time in times1\n",
        "    closest_indices = np.argmin(differences, axis=1)\n",
        "\n",
        "    return closest_indices"
      ]
    },
    {
      "cell_type": "code",
      "execution_count": null,
      "id": "3e9b6613",
      "metadata": {
        "id": "3e9b6613"
      },
      "outputs": [],
      "source": [
        "#Swarm A's magnetics are not great but swarm B's are okay, we use this to our advantage to increase our resolution in E\n",
        "\n",
        "measurements_E = [\n",
        "        \"VsatN\",\n",
        "        \"VsatE\",\n",
        "        \"VsatC\",\n",
        "        \"Vixv\",\n",
        "        \"Viy\",\n",
        "        \"Viz\",\n",
        "        \"Quality_flags\",\n",
        "        'Bx',\n",
        "        'By',\n",
        "        'Bz'\n",
        "    ]\n",
        "ds = requester(\n",
        "    \"SW_EXPT_EFIB_TCT02\", #Mag B, high resolution, 50Hz B (Magnetic field)\n",
        "    measurements_E, #Magnetic field in NEC coordinates\n",
        "    True,\n",
        "    asynchronous=False,\n",
        "    show_progress=False)\n",
        "dsB = requester(\n",
        "    'SW_OPER_MAGB_HR_1B', #Mag B, high resolution, 50Hz B (Magnetic field)\n",
        "    [\"q_NEC_CRF\"], #Magnetic field in NEC coordinates\n",
        "    False,\n",
        "    asynchronous=False,\n",
        "    show_progress=False)\n",
        "Etime=ds.index\n"
      ]
    },
    {
      "cell_type": "code",
      "execution_count": null,
      "id": "4b5bb663",
      "metadata": {
        "id": "4b5bb663"
      },
      "outputs": [],
      "source": [
        "from scipy.spatial.transform import Rotation as R\n",
        "import numpy as np\n",
        "\n",
        "def quaternion_inverse_scipy(q):\n",
        "    # Ensure q is a numpy array\n",
        "    q = np.asarray(q)\n",
        "\n",
        "    # Create a Rotation object from the quaternion\n",
        "    rotation = R.from_quat(q)  # Note: scipy uses [x, y, z, w] format\n",
        "\n",
        "    # Compute the inverse rotation\n",
        "    inverse_rotation = rotation.inv()\n",
        "\n",
        "\n",
        "    return inverse_rotation"
      ]
    },
    {
      "cell_type": "code",
      "execution_count": null,
      "id": "c7536a6f",
      "metadata": {
        "id": "c7536a6f"
      },
      "outputs": [],
      "source": [
        "indicies=find_closest_indices(ds.index, dsB.index)\n",
        "quatnecrf=dsB[\"q_NEC_CRF\"].to_numpy()[indicies]\n",
        "quaternions = []\n",
        "vsat=np.array(ds[\"Viy\"])\n",
        "\n",
        "coords_E= footprint( t0,ds['Latitude'].to_numpy(), ds['Longitude'].to_numpy(), (ds[\"Radius\"].to_numpy()-6.371e6)/1e3, alt )[:-1]\n",
        "vused=vsat\n",
        "\n",
        "vused = np.where((vused > 3500) | (vused < -3500), np.nan, vused)\n",
        "\n",
        "plt.legend()\n",
        "print(ds[\"VsatN\"].to_numpy()/np.sqrt(ds[\"VsatN\"].to_numpy()**2+ ds[\"VsatE\"].to_numpy()**2))\n",
        "LOS=np.array([ds[\"VsatN\"].to_numpy()/np.sqrt(ds[\"VsatN\"].to_numpy()**2+ ds[\"VsatE\"].to_numpy()**2),\n",
        " ds[\"VsatE\"].to_numpy()/np.sqrt(ds[\"VsatN\"].to_numpy()**2+ ds[\"VsatE\"].to_numpy()**2)])\n",
        "\n",
        "Eswarm = lompe.Data(vused, coordinates = coords_E, datatype = 'convection', error = 10, iweight=1.0, LOS=LOS)"
      ]
    },
    {
      "cell_type": "markdown",
      "id": "082dd8ea",
      "metadata": {
        "id": "082dd8ea"
      },
      "source": [
        "![image.png](attachment:image.png)"
      ]
    },
    {
      "cell_type": "markdown",
      "id": "2a3f5265",
      "metadata": {
        "id": "2a3f5265"
      },
      "source": [
        "![image.png](attachment:image.png) VELOCITIES Are westward, so negative V, however, lompe keeps putting negative = eastward"
      ]
    },
    {
      "cell_type": "code",
      "execution_count": null,
      "id": "dee40cfd",
      "metadata": {
        "id": "dee40cfd"
      },
      "outputs": [],
      "source": [
        "# initialize Lompe\n",
        "model = lompe.Emodel(grid, Hall_Pedersen_conductance = (SH, SP))\n",
        "\n",
        "# add data\n",
        "#model.add_data(iridium_data)\n",
        "#model.add_data(sm_data)\n",
        "#model.add_data(swarmmags[0],swarmmags[1], swarmmags[2] , )\n",
        "#\n",
        "#model.add_data(sd_data)\n",
        "model.add_data(Eswarm)\n",
        "\n",
        "\n",
        "# run inversion\n",
        "model.run_inversion(l1 = 1, l2 = 10)\n",
        "# l1 and l2 are regularization parameters that control the damping of\n",
        "# 1) model norm, and 2) gradient of SECS amplitudes (charges) in magnetic eastward direction"
      ]
    },
    {
      "cell_type": "code",
      "execution_count": null,
      "id": "6c36b192",
      "metadata": {
        "id": "6c36b192"
      },
      "outputs": [],
      "source": [
        "fig = lompe.lompeplot(model, include_data = True, time = t0, apex = a,\n",
        "                      colorscales = {'fac'        : np.linspace(-0.55, 0.55, 40) * 1e-6 * 2,\n",
        "                                     'ground_mag' : np.linspace(-380, 380, 50) * 1e-9 / 3, # upward component\n",
        "                                     'hall'       : np.linspace(0, 6, 32), # mho\n",
        "                                     'pedersen'   : np.linspace(0, 6, 32)}, # mho\n",
        "                      quiverscales={'ground_mag'      : 500*1e-9,\n",
        "                                    'space_mag_fac'   : 2000*1e-9,\n",
        "                                    'space_mag_full'  : 500*1e-9,\n",
        "                                    'electric_current': 1000* 1e-3,\n",
        "                                    'convection': 6000\n",
        "                                    }, return_axes=True)\n"
      ]
    },
    {
      "cell_type": "code",
      "execution_count": null,
      "id": "9468eee5",
      "metadata": {
        "id": "9468eee5"
      },
      "outputs": [],
      "source": [
        "# initialize Lompe\n",
        "model = lompe.Emodel(grid, Hall_Pedersen_conductance = (SH, SP))\n",
        "\n",
        "# add data\n",
        "#model.add_data(iridium_data)\n",
        "#model.add_data(sm_data)\n",
        "model.add_data(swarmmags[0],swarmmags[1], swarmmags[2] , )\n",
        "#\n",
        "#model.add_data(sd_data)\n",
        "model.add_data(Eswarm)\n",
        "\n",
        "\n",
        "# run inversion\n",
        "model.run_inversion(l1 = 1, l2 = 10)\n",
        "# l1 and l2 are regularization parameters that control the damping of\n",
        "# 1) model norm, and 2) gradient of SECS amplitudes (charges) in magnetic eastward direction"
      ]
    },
    {
      "cell_type": "code",
      "execution_count": null,
      "id": "63ca935b",
      "metadata": {
        "id": "63ca935b"
      },
      "outputs": [],
      "source": [
        "\n",
        "\n",
        "fig = lompe.lompeplot(model, include_data = True, time = t0, apex = a,\n",
        "                      colorscales = {'fac'        : np.linspace(-0.5, 0.5, 40) * 1e-6 * 2,\n",
        "                                     'ground_mag' : np.linspace(-380, 380, 50) * 1e-9 / 3, # upward component\n",
        "                                     'hall'       : np.linspace(0, 6, 32), # mho\n",
        "                                     'pedersen'   : np.linspace(0, 6, 32)}, # mho\n",
        "                      quiverscales={'ground_mag'      : 600*1e-9,\n",
        "                                    'space_mag_fac'   : 2000*1e-9,\n",
        "                                    'space_mag_full'  : 2000*1e-9,\n",
        "                                    'electric_current': 1000* 1e-3,\n",
        "                                    'convection': 7000,\n",
        "                                    })\n",
        "\n",
        "xeas=fig.get_axes()\n",
        "\n"
      ]
    },
    {
      "cell_type": "code",
      "execution_count": null,
      "id": "c61cf97a",
      "metadata": {
        "id": "c61cf97a"
      },
      "outputs": [],
      "source": [
        "# initialize Lompe\n",
        "model = lompe.Emodel(grid, Hall_Pedersen_conductance = (SH, SP))\n",
        "\n",
        "# add data\n",
        "model.add_data(iridium_data)\n",
        "model.add_data(sm_data)\n",
        "model.add_data(swarmmags[0],swarmmags[1], swarmmags[2] , )\n",
        "\n",
        "model.add_data(sd_data)\n",
        "model.add_data(Eswarm)\n",
        "\n",
        "\n",
        "# run inversion\n",
        "model.run_inversion(l1 =2, l2 = 10)\n",
        "# l1 and l2 are regularization parameters that control the damping of\n",
        "# 1) model norm, and 2) gradient of SECS amplitudes (charges) in magnetic eastward direction"
      ]
    },
    {
      "cell_type": "code",
      "execution_count": null,
      "id": "f50fce14",
      "metadata": {
        "id": "f50fce14"
      },
      "outputs": [],
      "source": [
        "\n",
        "\n",
        "fig = lompe.lompeplot(model, include_data = True, time = t0, apex = a,\n",
        "                      colorscales = {'fac'        : np.linspace(-0.8, 0.8, 40) * 1e-6 * 2,\n",
        "                                     'ground_mag' : np.linspace(-380, 380, 50) * 1e-9 / 3, # upward component\n",
        "                                     'hall'       : np.linspace(0, 6, 32), # mho\n",
        "                                     'pedersen'   : np.linspace(0, 6, 32)}, # mho\n",
        "                      quiverscales={'ground_mag'      : 600*1e-9,\n",
        "                                    'space_mag_fac'   : 1200*1e-9,\n",
        "                                    'space_mag_full'  : 1200*1e-9,\n",
        "                                    'electric_current': 1000* 1e-3,\n",
        "                                    'convection': 5000,\n",
        "                                    })\n",
        "\n",
        "xeas=fig.get_axes()\n",
        "\n"
      ]
    },
    {
      "cell_type": "code",
      "execution_count": null,
      "id": "6d44d97e",
      "metadata": {
        "id": "6d44d97e"
      },
      "outputs": [],
      "source": [
        "fig, ax = plt.subplots( dpi=300)\n",
        "print(ax)\n",
        "lompe.visualization.plot_potential(ax, model)\n",
        "print(lompe.visualization.QUIVERSCALES)\n",
        "lompe.visualization.plot_quiver(ax, model, 'convection')\n",
        "lompe.visualization.plot_datasets(ax, model, 'convection')\n",
        "\n",
        "lon = np.linspace(-123, -105, 200)\n",
        "lat= np.linspace(62.3, 62.45, 200)\n",
        "\n",
        "\n",
        "\n",
        "x, y= model.grid_J.projection.geo2cube(lon, lat)\n",
        "scat = ax.plot(x, y, color='purple', label='Location of Arc Based on Ewogram')\n",
        "x, y= model.grid_J.projection.geo2cube( -114.3718, 62.4540)\n",
        "lon = np.linspace(-123, -105, 200)\n",
        "\n",
        "scat = ax.plot(x, y, color='purple')\n",
        "\n",
        "plt.legend()\n",
        "lompe.visualization.plot_mlt(ax, model, time[0], a, np.array([0,3,6,9,12]), color = 'grey', alpha=0.3)"
      ]
    },
    {
      "cell_type": "code",
      "execution_count": null,
      "id": "4da7a809",
      "metadata": {
        "id": "4da7a809"
      },
      "outputs": [],
      "source": [
        "fig, ax = plt.subplots( dpi=300)\n",
        "lompe.visualization.plot_quiver(  ax, model, 'space_mag_fac')\n",
        "lompe.visualization.plot_contour( ax, model, 'fac')\n",
        "lon = np.linspace(-123, -105, 200)\n",
        "lat= np.linspace(62.3, 62.45, 200)\n",
        "\n",
        "\n",
        "lompe.visualization.plot_datasets(ax, model, 'space_mag_full')\n",
        "lompe.visualization.plot_datasets(ax, model, 'space_mag_fac')\n",
        "\n",
        "x, y= model.grid_J.projection.geo2cube(lon, lat)\n",
        "scat = ax.plot(x, y, color='purple', label='Location of Arc Based on Ewogram')\n",
        "x, y= model.grid_J.projection.geo2cube( -114.3718, 62.4540)\n",
        "lon = np.linspace(-123, -105, 200)\n",
        "lat= np.linspace(62.5, 63.6, 200)\n",
        "x, y= model.grid_J.projection.geo2cube(lon, lat)\n",
        "scat = ax.plot(x, y, color='purple')\n",
        "\n"
      ]
    },
    {
      "cell_type": "code",
      "execution_count": null,
      "id": "d1473a41",
      "metadata": {
        "id": "d1473a41"
      },
      "outputs": [],
      "source": [
        "fig = plt.figure(figsize=(10, 10), dpi=300)  # Adjust figure size as needed\n",
        "import matplotlib.gridspec as gridspec\n",
        "# Define GridSpec with 1 column on the left and 3 stacked rows on the right\n",
        "gs = gridspec.GridSpec(2, 2, figure=fig, wspace=0.1, hspace=0.125, height_ratios=[1,0.05])  # 3 rows, 4 columns for flexibility\n",
        "ax1 = fig.add_subplot(gs[0, 0])\n",
        "ax2 = fig.add_subplot(gs[0, 1])\n",
        "ax3 = fig.add_subplot(gs[1, :])\n",
        "plt.setp(ax1.get_xticklabels(), visible=False)\n",
        "plt.setp(ax1.get_yticklabels(), visible=False)\n",
        "plt.setp(ax2.get_xticklabels(), visible=False)\n",
        "plt.setp(ax2.get_yticklabels(), visible=False)\n",
        "lompe.visualization.plot_potential(ax1, model)\n",
        "print(lompe.visualization.QUIVERSCALES)\n",
        "lompe.visualization.plot_quiver(ax1, model, 'convection')\n",
        "lompe.visualization.plot_datasets(ax1, model, 'convection')\n",
        "\n",
        "lon = np.linspace(-123, -105, 200)\n",
        "lat= np.linspace(62.3, 62.45, 200)\n",
        "\n",
        "\n",
        "\n",
        "x, y= model.grid_J.projection.geo2cube(lon, lat)\n",
        "scat = ax1.plot(x, y, color='purple', label='Location of Arc Based on Ewogram')\n",
        "x, y= model.grid_J.projection.geo2cube( -114.3718, 62.4540)\n",
        "lon = np.linspace(-123, -105, 200)\n",
        "\n",
        "scat = ax1.plot(x, y, color='purple')\n",
        "\n",
        "\n",
        "lompe.visualization.plot_mlt(ax1, model, time[0], a, np.array([0,3,6,9,12]), color = 'grey', alpha=0.8)\n",
        "\n",
        "ax1.set_title(\"Convection Velocity and Electric Potential\")\n",
        "ax2.set_title(\"FAC and Magnetic Field\")\n",
        "\n",
        "lompe.visualization.plot_quiver(  ax2, model, 'space_mag_fac')\n",
        "lompe.visualization.plot_contour( ax2, model, 'fac')\n",
        "lon = np.linspace(-123, -105, 200)\n",
        "lat= np.linspace(62.3, 62.45, 200)\n",
        "\n",
        "\n",
        "lompe.visualization.plot_datasets(ax2, model, 'space_mag_full')\n",
        "lompe.visualization.plot_datasets(ax2, model, 'space_mag_fac')\n",
        "\n",
        "x, y= model.grid_J.projection.geo2cube(lon, lat)\n",
        "scat = ax2.plot(x, y, color='purple', label='Location of Arc Based on Ewogram')\n",
        "x, y= model.grid_J.projection.geo2cube( -114.3718, 62.4540)\n",
        "lompe.visualization.plot_mlt(ax2, model, time[0], a, np.array([0,3,6,9,12]), color = 'grey', alpha=0.8)\n",
        "\n",
        "fac_levels=np.linspace(-0.8, 0.8, 40) * 1e-6 * 2\n",
        "\n",
        "xx = np.vstack((fac_levels, fac_levels)) * 1e6\n",
        "yy = np.vstack((np.zeros_like(fac_levels), np.ones_like(fac_levels)))\n",
        "ax3.contourf(xx, yy, xx, cmap = plt.cm.bwr, levels = fac_levels * 1e6)\n",
        "ax3.set_xlabel('$\\mu$A/m$^2$')\n",
        "ax3.set_yticks([])"
      ]
    },
    {
      "cell_type": "code",
      "execution_count": null,
      "id": "62a12674",
      "metadata": {
        "id": "62a12674"
      },
      "outputs": [],
      "source": [
        "fig, ax = plt.subplots( dpi=300)\n",
        "lompe.visualization.plot_quiver(  ax, model, 'space_mag_fac')\n",
        "lompe.visualization.plot_contour( ax, model, 'fac')\n",
        "\n",
        "\n",
        "lompe.visualization.plot_datasets(ax, model, 'space_mag_fac', alpha=0.5)\n",
        "lompe.visualization.plot_datasets(ax, model, 'space_mag_full', alpha=0.5)\n",
        "\n",
        "lat, lon = coords_swarmb[0][1], coords_swarmb[0][0]+0.3\n",
        "print(lat)\n",
        "x, y= model.grid_J.projection.geo2cube(lon, lat)\n",
        "from matplotlib import cm\n",
        "print((Bused[0]))\n",
        "\n",
        "\n",
        "lon, lat = coords_E\n",
        "x, y= model.grid_J.projection.geo2cube(lon, lat)\n",
        "from matplotlib import cm\n",
        "\n",
        "masked_array = np.ma.array(vused[0], mask=np.isnan(vused[0]))\n",
        "\n",
        "#ax.plot(x,y, c=cm.viridis(masked_array))\n",
        "\n",
        "ax.set_title('FAC and magnetic field')\n",
        "\n",
        "\n",
        "\n",
        "lon = np.linspace(-123, -105, 200)\n",
        "lat= np.linspace(62.3, 62.45, 200)\n",
        "\n",
        "\n",
        "x, y= model.grid_J.projection.geo2cube(lon, lat)\n",
        "scat = ax.plot(x, y, color='purple', label='Location of Arc Based on Ewogram')\n",
        "x, y= model.grid_J.projection.geo2cube( -114.3718, 62.4540)\n",
        "\n",
        "\n",
        "lompe.visualization.plot_mlt(ax, model, time[0], a, np.array([0,3,6,9,12]), color = 'grey', alpha=0.3)\n",
        "\n",
        "#lompe.visualization.plot_datasets(ax, model, 'convection', color='green')\n",
        "plt.legend()\n"
      ]
    },
    {
      "cell_type": "code",
      "execution_count": null,
      "id": "a9882395",
      "metadata": {
        "id": "a9882395"
      },
      "outputs": [],
      "source": [
        "plt.plot( coords_swarmb[0][1], BUsed_swarmb[0][0])"
      ]
    },
    {
      "cell_type": "code",
      "execution_count": null,
      "id": "607bedb8",
      "metadata": {
        "id": "607bedb8"
      },
      "outputs": [],
      "source": [
        "fig, ax = plt.subplots( dpi=300)\n",
        "lompe.visualization.plot_contour(ax, model, 'hall')\n",
        "lompe.visualization.plot_coastlines(ax, model, color = 'grey')\n",
        "lompe.visualization.plot_mlt(ax, model, time, a, color = 'grey')\n",
        "lons, lats=np.linspace(-140,-90, 100), [62.4]*100 #Lat of Trex\n",
        "\n",
        "lon, lat = lons, lats #Lat of Trex\n",
        "x, y= model.grid_J.projection.geo2cube(lon, lat)\n",
        "scat = ax.plot(x, y, color='red')\n",
        "\n",
        "lons, lats=np.linspace(-140,-90, 100), [62.83]*100 #Lat of Trex\n",
        "\n",
        "lon, lat = lons, lats #Lat of Trex\n",
        "x, y= model.grid_J.projection.geo2cube(lon, lat)\n",
        "scat = ax.plot(x, y, color='red', label='location of Velocity Shear')\n",
        "\n",
        "lons, lats=np.linspace(-140,-90, 100), [62.3]*100 #Lat of Trex\n",
        "\n",
        "lon, lat = lons, lats #Lat of Trex\n",
        "x, y= model.grid_J.projection.geo2cube(lon, lat)\n",
        "scat = ax.plot(x, y, color='purple')\n",
        "\n",
        "lons, lats=np.linspace(-140,-90, 100), [62.86]*100 #Lat of Trex\n",
        "\n",
        "lon, lat = lons, lats #Lat of Trex\n",
        "x, y= model.grid_J.projection.geo2cube(lon, lat)\n",
        "scat = ax.plot(x, y, color='purple', label='Location of Arc Based on Keogram')\n",
        "ax.set_title('Hall conductance')"
      ]
    },
    {
      "cell_type": "code",
      "execution_count": null,
      "id": "6b1fd58a",
      "metadata": {
        "id": "6b1fd58a"
      },
      "outputs": [],
      "source": [
        "fig, ax = plt.subplots( dpi=300)\n",
        "lompe.visualization.plot_contour(ax, model, 'pedersen')\n",
        "lompe.visualization.plot_coastlines(ax, model, color = 'grey')\n",
        "lons, lats=np.linspace(-140,-90, 100), [62.4]*100 #Lat of Trex\n",
        "\n",
        "lon, lat = lons, lats #Lat of Trex\n",
        "x, y= model.grid_J.projection.geo2cube(lon, lat)\n",
        "scat = ax.plot(x, y, color='red')\n",
        "\n",
        "lons, lats=np.linspace(-140,-90, 100), [62.83]*100 #Lat of Trex\n",
        "\n",
        "lon, lat = lons, lats #Lat of Trex\n",
        "x, y= model.grid_J.projection.geo2cube(lon, lat)\n",
        "scat = ax.plot(x, y, color='red', label='location of Velocity Shear')\n",
        "\n",
        "lons, lats=np.linspace(-140,-90, 100), [62.3]*100 #Lat of Trex\n",
        "\n",
        "lon, lat = lons, lats #Lat of Trex\n",
        "x, y= model.grid_J.projection.geo2cube(lon, lat)\n",
        "scat = ax.plot(x, y, color='purple')\n",
        "\n",
        "lons, lats=np.linspace(-140,-90, 100), [62.86]*100 #Lat of Trex\n",
        "\n",
        "lon, lat = lons, lats #Lat of Trex\n",
        "x, y= model.grid_J.projection.geo2cube(lon, lat)\n",
        "scat = ax.plot(x, y, color='purple', label='Location of Arc Based on Keogram')\n",
        "\n",
        "ax.set_title('Pederson conductance')"
      ]
    },
    {
      "cell_type": "markdown",
      "id": "45211200",
      "metadata": {
        "id": "45211200"
      },
      "source": [
        "The top row shows, from left to right (input data is shown in orange):\n",
        "- Convection flow field and electric potential contours\n",
        "- horizontal magnetic field disturbances 110 km above the ionosphere as black arrows and radial current density as color contours\n",
        "- horizontal ground magnetic field perturbations as black arrows and radial magnetic field perturbations as color contours\n",
        "- a map that shows the grid’s position and orientation with respect to apex magnetic latitude and local time.\n",
        "\n",
        "The bottom row shows, from left to right:\n",
        "- Pedersen conductance\n",
        "- Hall conductance\n",
        "- horizontal height-integrated ionospheric currents based on Lompe output\n",
        "- color scale / vector scales"
      ]
    }
  ],
  "metadata": {
    "kernelspec": {
      "display_name": "myenv",
      "language": "python",
      "name": "python3"
    },
    "language_info": {
      "codemirror_mode": {
        "name": "ipython",
        "version": 3
      },
      "file_extension": ".py",
      "mimetype": "text/x-python",
      "name": "python",
      "nbconvert_exporter": "python",
      "pygments_lexer": "ipython3",
      "version": "3.11.9"
    },
    "colab": {
      "provenance": []
    }
  },
  "nbformat": 4,
  "nbformat_minor": 5
}